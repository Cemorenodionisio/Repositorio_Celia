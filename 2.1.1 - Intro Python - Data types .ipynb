{
 "cells": [
  {
   "cell_type": "markdown",
   "metadata": {
    "lang": "en"
   },
   "source": [
    "### Estructuras de datos"
   ]
  },
  {
   "cell_type": "code",
   "execution_count": 1,
   "metadata": {},
   "outputs": [
    {
     "data": {
      "text/plain": [
       "'\\nDATA (no repo)\\n\\n    /evolve-data-python (repo) - sólo lectura\\n    /apuntes (repo) - lectura/escritura - propio\\n    /proyectos_1\\n    /proyecto_2\\n'"
      ]
     },
     "execution_count": 1,
     "metadata": {},
     "output_type": "execute_result"
    }
   ],
   "source": [
    "# Estructura \n",
    "\"\"\"\n",
    "DATA (no repo)\n",
    "\n",
    "    /evolve-data-python (repo) - sólo lectura\n",
    "    /apuntes (repo) - lectura/escritura - propio\n",
    "    /proyectos_1\n",
    "    /proyecto_2\n",
    "\"\"\""
   ]
  },
  {
   "cell_type": "code",
   "execution_count": 2,
   "metadata": {},
   "outputs": [
    {
     "data": {
      "text/plain": [
       "'\\nDATA (no repo)\\n\\n/evolve-data-python (repo) - sólo lectura\\n/evolve-data-python - FORK - lectura/escritura - propio\\n/proyectos_1\\n/proyecto_2\\n\\n'"
      ]
     },
     "execution_count": 2,
     "metadata": {},
     "output_type": "execute_result"
    }
   ],
   "source": [
    "\"\"\"\n",
    "DATA (no repo)\n",
    "\n",
    "/evolve-data-python (repo) - sólo lectura\n",
    "/evolve-data-python - FORK - lectura/escritura - propio\n",
    "/proyectos_1\n",
    "/proyecto_2\n",
    "\n",
    "\"\"\""
   ]
  },
  {
   "cell_type": "code",
   "execution_count": 3,
   "metadata": {},
   "outputs": [],
   "source": [
    "# 1. crear en la web y clonar\n",
    "# 2. git init y luego enlazar (también en la web)\n",
    "    # git init\n",
    "    # git init -> crea una carpeta .git (con la config vacía)\n",
    "    # puede ser \"peligroso\"\n",
    "    # git init -> la root del ordenador -> trackear todos tus archivos\n",
    "        # rm -rf .git\n",
    "        # NO HACER: git init; git add remote origin LA_URL\n",
    "# git init -> os va crear la rama master en vez de la main\n",
    "    # off-topic: el cambio de master a main, blacklivesmatter \n",
    "    # "
   ]
  },
  {
   "cell_type": "code",
   "execution_count": 4,
   "metadata": {},
   "outputs": [],
   "source": [
    "# git fetch: LEER los cambios de arriba\n",
    "# git pull: git fetch & git merge\n",
    "# git pull: te incluye los cambio nuevos: te trae el commit y te actualiza a la última versión"
   ]
  },
  {
   "cell_type": "code",
   "execution_count": 5,
   "metadata": {},
   "outputs": [
    {
     "data": {
      "text/plain": [
       "'\\nRECAP\\nTipos de perfiles en data\\n    - Data analyst\\n    - Data engineer\\n    - Data scientist\\n    - ML negineer\\n    \\nTipos de procesos\\n    - ETL: Extraction, Transformation, Load (pipelines): cadenas de procesos\\n    - EDA: Exploratory data analysis\\n    \\nHerramientas\\n    - Python\\n        - Scripting (automatizaciones)\\n        - Visualización datos\\n            - Seaborn, matplotlib, plotly\\n            - Pandas\\n        - Transformación datos: pandas\\n        - Exploración: pandas\\n        - Estadística, ML (python): scikitlearn, pytorch...\\n    - BBDD\\n        - Relacionales: SQL\\n        - No relacionales: diccionarios (objetos javascript)\\n    - Visualizaciones\\n        - Tableau, PowerBI\\n    - Control de versiones: git\\n    - Terminal: bash, scripting, automatizaciones, integración de bash en python\\n\\nIntro a variables\\nEntorno de trabajo\\n    - Jupyter/VScode\\nTerminal\\nGit\\n    - SCversiones\\n    - Git: la trazabilidad vs. github (web con repos)\\n    - Repositorio: carpeta. Tiene .git (conectar el local con el remoto)\\n    - Ramas: versiones paralelas de un repositorio\\n\\n    - PROCESO\\n        - 1. git status\\n        - 2. git add archivo_a_seguir\\n        - 3. git commit -m \"mensaje significativo\"\\n        - 4. git push origin main\\n             git push origin dev-feature-2\\n            - main / master (deprecated)\\n        - 5. git pull\\n\\n    - contribuir a otros respositorios\\n        - 1. FORK\\n        - 2. Git clone de NUESTRO FORK\\n        - 3. mismo proceso\\n        - 4. PULL REQUEST\\n            - pull request (PR) vs. git pull\\n            - petición al otro usuario para que descargue nuestras actualizaciones\\n            - desde la web: contribuir -> comparar historial de commits para integrarlo\\n    - ¿git add & git commit? \\n        - git add: añade (vs. cambiar) -> se añade -> no crea historial\\n            -> qué se añade a qué\\n            -> añadiendo el archivo al trackeo de los cambios\\n        - git commit: modfica / envía mensaje -> aplica los cambios -> sí crea historial\\n            -> confirmarlo -> graba el cambio\\n'"
      ]
     },
     "execution_count": 5,
     "metadata": {},
     "output_type": "execute_result"
    }
   ],
   "source": [
    "\"\"\"\n",
    "RECAP\n",
    "Tipos de perfiles en data\n",
    "    - Data analyst\n",
    "    - Data engineer\n",
    "    - Data scientist\n",
    "    - ML negineer\n",
    "    \n",
    "Tipos de procesos\n",
    "    - ETL: Extraction, Transformation, Load (pipelines): cadenas de procesos\n",
    "    - EDA: Exploratory data analysis\n",
    "    \n",
    "Herramientas\n",
    "    - Python\n",
    "        - Scripting (automatizaciones)\n",
    "        - Visualización datos\n",
    "            - Seaborn, matplotlib, plotly\n",
    "            - Pandas\n",
    "        - Transformación datos: pandas\n",
    "        - Exploración: pandas\n",
    "        - Estadística, ML (python): scikitlearn, pytorch...\n",
    "    - BBDD\n",
    "        - Relacionales: SQL\n",
    "        - No relacionales: diccionarios (objetos javascript)\n",
    "    - Visualizaciones\n",
    "        - Tableau, PowerBI\n",
    "    - Control de versiones: git\n",
    "    - Terminal: bash, scripting, automatizaciones, integración de bash en python\n",
    "\n",
    "Intro a variables\n",
    "Entorno de trabajo\n",
    "    - Jupyter/VScode\n",
    "Terminal\n",
    "Git\n",
    "    - SCversiones\n",
    "    - Git: la trazabilidad vs. github (web con repos)\n",
    "    - Repositorio: carpeta. Tiene .git (conectar el local con el remoto)\n",
    "    - Ramas: versiones paralelas de un repositorio\n",
    "\n",
    "    - PROCESO\n",
    "        - 1. git status\n",
    "        - 2. git add archivo_a_seguir\n",
    "        - 3. git commit -m \"mensaje significativo\"\n",
    "        - 4. git push origin main\n",
    "             git push origin dev-feature-2\n",
    "            - main / master (deprecated)\n",
    "        - 5. git pull\n",
    "\n",
    "    - contribuir a otros respositorios\n",
    "        - 1. FORK\n",
    "        - 2. Git clone de NUESTRO FORK\n",
    "        - 3. mismo proceso\n",
    "        - 4. PULL REQUEST\n",
    "            - pull request (PR) vs. git pull\n",
    "            - petición al otro usuario para que descargue nuestras actualizaciones\n",
    "            - desde la web: contribuir -> comparar historial de commits para integrarlo\n",
    "    - ¿git add & git commit? \n",
    "        - git add: añade (vs. cambiar) -> se añade -> no crea historial\n",
    "            -> qué se añade a qué\n",
    "            -> añadiendo el archivo al trackeo de los cambios\n",
    "        - git commit: modfica / envía mensaje -> aplica los cambios -> sí crea historial\n",
    "            -> confirmarlo -> graba el cambio\n",
    "\"\"\""
   ]
  },
  {
   "cell_type": "code",
   "execution_count": 6,
   "metadata": {},
   "outputs": [],
   "source": [
    "# Tipos datos: int, float, str (booleanos)\n",
    "# Estructuras: listas, tuplas, sets, diccionarios"
   ]
  },
  {
   "cell_type": "code",
   "execution_count": null,
   "metadata": {},
   "outputs": [
    {
     "ename": "SyntaxError",
     "evalue": "invalid syntax (547107023.py, line 18)",
     "output_type": "error",
     "traceback": [
      "\u001b[0;36m  Cell \u001b[0;32mIn[62], line 18\u001b[0;36m\u001b[0m\n",
      "\u001b[0;31m    \"\"\"Más generalistas, pueden recibir lo que sea\"\"\"\u001b[0m\n",
      "\u001b[0m       ^\u001b[0m\n",
      "\u001b[0;31mSyntaxError\u001b[0m\u001b[0;31m:\u001b[0m invalid syntax\n"
     ]
    }
   ],
   "source": [
    "\"\"\"\n",
    "Objetos: cualquier cosa en Python es un objeto\n",
    "Función: código que HACE cosas -> input/output -> ACCIONES\n",
    "    Métodos: una función de un objeto\n",
    "        - str.lower() -> aplicar un método de una string (sobre sí misma)\n",
    "- Sobre sí misma vs. función argumento\n",
    "    - Arg: aplicamos la transformación/acción sobre el arg\n",
    "    - \"esto es una string\".lower(): aplicamos sobre sí mismo\n",
    "    \n",
    "- Las funciones pueden recibir CUALQUIER COSA -> puede fiuncionar o puede no funcionar\n",
    "- Los métodos: sólo estan disponibles para los objetos que lo tienen definido\n",
    "\n",
    "Los métodos dependen de las propiedades del objeto\n",
    "Sí: str.lower() \n",
    "No: int.lower()\n",
    "\n",
    "def sumar (a, b):\n",
    "    \"\"\"Más generalistas, pueden recibir lo que sea\"\"\"\n",
    "    return a + b\n",
    "\n",
    "Los objetos tienen propiedades: \n",
    "    - Coche: coche.poner_freno_mano()\n",
    "    - Barco: barco.echar_ancla()\n",
    "\n",
    "Estructuras de datos: listas\n",
    "\n",
    "clase / instancia\n",
    "- Str(CLASE/OBJETO), \"Hola, este es mi nombre\" (Ejemplo real que modifico) (instancia)\n",
    "- Fiat punto (CLASE/OBJETO), Fiat punto, color rojo, del año 2000, dueña: Laura (instancia)\n",
    "\"\"\""
   ]
  },
  {
   "cell_type": "markdown",
   "metadata": {},
   "source": [
    "Hay 4 elementos en Python que nos permiten almacenar colecciones de datos.\n",
    "- Listas: [] iterable, orden, índice\n",
    "- Tuplas: () iterable, orden, índice\n",
    "- Sets: {} iterable, ni orden, ni índice\n",
    "- Diccionarios: {:}"
   ]
  },
  {
   "cell_type": "markdown",
   "metadata": {},
   "source": [
    "### Listas"
   ]
  },
  {
   "cell_type": "markdown",
   "metadata": {
    "lang": "en"
   },
   "source": [
    "Las listas pueden contener diferentes tipos de datos. <br>\n",
    "Además de tener un índice que las ordena <br>\n",
    "Puede tener valores repetidos<br>\n",
    "ORDEN Y DUPLICIDAD"
   ]
  },
  {
   "cell_type": "code",
   "execution_count": 24,
   "metadata": {},
   "outputs": [],
   "source": [
    "lst = []\n",
    "lst_1 = [\"123234 \", 343443, [\"más cosas\"], [[\"Hola\"], [\"qué tal\"]]]"
   ]
  },
  {
   "cell_type": "code",
   "execution_count": 25,
   "metadata": {},
   "outputs": [
    {
     "data": {
      "text/plain": [
       "[['Hola'], ['qué tal']]"
      ]
     },
     "execution_count": 25,
     "metadata": {},
     "output_type": "execute_result"
    }
   ],
   "source": [
    "lst_1[0] #accedo a la primera posición\n",
    "lst_1[-1] #accedo a la ultima posición"
   ]
  },
  {
   "cell_type": "code",
   "execution_count": null,
   "metadata": {},
   "outputs": [
    {
     "name": "stdout",
     "output_type": "stream",
     "text": [
      "<class 'int'>\n",
      "<class 'float'>\n",
      "<class 'bool'>\n",
      "<class 'str'>\n"
     ]
    },
    {
     "data": {
      "text/plain": [
       "[1, 1.0, False, 'sdsd']"
      ]
     },
     "execution_count": 3,
     "metadata": {},
     "output_type": "execute_result"
    }
   ],
   "source": [
    "lst_ = [1, 1.0, False, \"sdsd\"]\n",
    "for i in lst_:\n",
    "    print(type(i))"
   ]
  },
  {
   "cell_type": "code",
   "execution_count": null,
   "metadata": {},
   "outputs": [
    {
     "data": {
      "text/plain": [
       "2.0"
      ]
     },
     "execution_count": 8,
     "metadata": {},
     "output_type": "execute_result"
    }
   ],
   "source": [
    "sum(lst_[0:3])\n",
    "# Booleanos: True se considera como 1, si es False, es un 0\n",
    "# La suma no la hace con la cadena"
   ]
  },
  {
   "cell_type": "code",
   "execution_count": null,
   "metadata": {},
   "outputs": [],
   "source": [
    "[i for i in dir(\"holaaaa\") if \"_\" not in i]\n",
    "[i for i in dir(3) if \"_\" not in i]"
   ]
  },
  {
   "cell_type": "markdown",
   "metadata": {
    "lang": "en"
   },
   "source": [
    "#### Métodos de lista"
   ]
  },
  {
   "cell_type": "code",
   "execution_count": null,
   "metadata": {},
   "outputs": [],
   "source": [
    "#Si la funcion no devuelve nada es porque lo guarda en el objeto inicial."
   ]
  },
  {
   "cell_type": "code",
   "execution_count": null,
   "metadata": {},
   "outputs": [],
   "source": [
    "# métodos (funciones)\n",
    "# funciones que se aplican sobre sí mismos\n",
    "\n",
    "# double under: __\n",
    "# double under: los pueds utilizar pero que están pensados para que los use python y no tanto nosotros\n",
    "\n",
    "[i for i in dir([]) if \"_\" not in i] # comprehension lists\n",
    "#[i for i in dir([]) ] # comprehension lists"
   ]
  },
  {
   "cell_type": "markdown",
   "metadata": {},
   "source": [
    "`append` Agrega un elemento al final de la lista. (Solo para listas)"
   ]
  },
  {
   "cell_type": "code",
   "execution_count": null,
   "metadata": {},
   "outputs": [],
   "source": [
    "lst_.append # FEEDBACK: me estoy refiriendo pero no invocando <function list.append(object, /)>\n",
    "lst_.append(\"Holaaaa\")"
   ]
  },
  {
   "cell_type": "markdown",
   "metadata": {
    "lang": "en"
   },
   "source": [
    "`extend` Extiende la lista añadiéndole todos los elementos del iterable"
   ]
  },
  {
   "cell_type": "code",
   "execution_count": 12,
   "metadata": {},
   "outputs": [],
   "source": [
    "lst_ = ['123234 ', 343443, ['más cosas'], [['Hola'], ['qué tal']], 'Holaaaa', 'Holaaaa']\n",
    "lst_2 = [\"Laura\", \"Adrián\", \"Víctor\", \"José Francisco\"]"
   ]
  },
  {
   "cell_type": "code",
   "execution_count": 16,
   "metadata": {},
   "outputs": [],
   "source": [
    "lst_.append(lst_2) \n",
    "#lst_ Con append te introduce la segunda como una lista dentro de una lista"
   ]
  },
  {
   "cell_type": "code",
   "execution_count": null,
   "metadata": {},
   "outputs": [],
   "source": [
    "lst_.extend(lst_2)\n",
    "#lst_ con extend te introduce elemento por elemento "
   ]
  },
  {
   "cell_type": "markdown",
   "metadata": {},
   "source": [
    "`len` Longuitud del diccionario "
   ]
  },
  {
   "cell_type": "code",
   "execution_count": 17,
   "metadata": {},
   "outputs": [
    {
     "data": {
      "text/plain": [
       "1"
      ]
     },
     "execution_count": 17,
     "metadata": {},
     "output_type": "execute_result"
    }
   ],
   "source": [
    "len([\"asasas\"])\n",
    "#len([\"1\", 32, 23])"
   ]
  },
  {
   "cell_type": "code",
   "execution_count": 32,
   "metadata": {},
   "outputs": [
    {
     "data": {
      "text/plain": [
       "'Laura Rodríguez'"
      ]
     },
     "execution_count": 32,
     "metadata": {},
     "output_type": "execute_result"
    }
   ],
   "source": [
    "\"Laura\".__add__(\" Rodríguez\") # double under: para python y no para el usuario\n",
    "\"Laura\" + \" Rodríguez\"\n",
    "# *ok, pero puedes definir métodoa dentro de una clase para que otra función lo utilice, pero no tú"
   ]
  },
  {
   "cell_type": "code",
   "execution_count": 41,
   "metadata": {},
   "outputs": [],
   "source": [
    "def incrementar_distancia (pos_inicial, distancia_recorrida):\n",
    "    return pos_inicial + distancia_recorrida\n",
    "\n",
    "posicion_barco = incrementar_distancia (23456, 2323)\n",
    "posicion_coche = incrementar_distancia (222, 2323)"
   ]
  },
  {
   "cell_type": "markdown",
   "metadata": {
    "lang": "en"
   },
   "source": [
    "`insert` Inserta un elemento en una posición dada. \n",
    "\n",
    " El primer argumento es el índice del elemento que se insertará antes\n",
    "<br> Ejemplo: a.insert(0, x) inserta al principio de la lista y a.insert(len(a), x) es equivalente a a.append(x)."
   ]
  },
  {
   "cell_type": "code",
   "execution_count": 28,
   "metadata": {},
   "outputs": [],
   "source": [
    "lst_.insert(2, \"HOLA soy CELIA\")\n",
    "#lst_"
   ]
  },
  {
   "cell_type": "markdown",
   "metadata": {
    "lang": "en"
   },
   "source": [
    "`remove` Elimina el PRIMER elemento de la lista cuyo valor sea x. Lanza un ValueError si no existe dicho elemento."
   ]
  },
  {
   "cell_type": "code",
   "execution_count": 51,
   "metadata": {},
   "outputs": [
    {
     "name": "stdout",
     "output_type": "stream",
     "text": [
      "['Notable', 'Sobresaliente', 'Matrícula', 'SUSPENSO']\n"
     ]
    }
   ],
   "source": [
    "notas = [\"Notable\", \"Sobresaliente\", \"SUSPENSO\", \"Matrícula\", \"SUSPENSO\"]\n",
    "\n",
    "notas_2 = notas.copy()\n",
    "notas_2.remove(\"SUSPENSO\")\n",
    "print(notas_2)"
   ]
  },
  {
   "cell_type": "code",
   "execution_count": 52,
   "metadata": {},
   "outputs": [
    {
     "data": {
      "text/plain": [
       "['Notable', 'Sobresaliente', 'Matrícula']"
      ]
     },
     "execution_count": 52,
     "metadata": {},
     "output_type": "execute_result"
    }
   ],
   "source": [
    "notas = [\"Notable\", \"Sobresaliente\", \"SUSPENSO\", \"Matrícula\", \"SUSPENSO\"]\n",
    "[i for i in notas if i != \"SUSPENSO\"]\n",
    "# filtrar: bucle for\n",
    "# filtrar: comprehension\n",
    "# filtrar: filter(func, iterable)"
   ]
  },
  {
   "cell_type": "markdown",
   "metadata": {
    "lang": "en"
   },
   "source": [
    "`pop` extrae y elimina el elemento de la lista en la posición indicada y lo devuelve.<br> Si no se especifica ningún índice, a.pop() extrae y devuelve el último elemento de la lista."
   ]
  },
  {
   "cell_type": "code",
   "execution_count": null,
   "metadata": {},
   "outputs": [
    {
     "data": {
      "text/plain": [
       "5"
      ]
     },
     "execution_count": 31,
     "metadata": {},
     "output_type": "execute_result"
    }
   ],
   "source": [
    "lst_elementos = [34, 45, 4,2, 5, 52]\n",
    "lst_elementos.pop()\n",
    "#utlimo = lst_elementos.pop()\n",
    "#utlimo\n",
    "# Index Error: si no hay elementos para eliminar"
   ]
  },
  {
   "cell_type": "markdown",
   "metadata": {
    "lang": "en"
   },
   "source": [
    "`clear` Elimina todos los elementos de la lista"
   ]
  },
  {
   "cell_type": "code",
   "execution_count": 32,
   "metadata": {},
   "outputs": [],
   "source": [
    "lst_elementos.clear()"
   ]
  },
  {
   "cell_type": "code",
   "execution_count": 61,
   "metadata": {},
   "outputs": [
    {
     "data": {
      "text/plain": [
       "'10esto es un diez'"
      ]
     },
     "execution_count": 61,
     "metadata": {},
     "output_type": "execute_result"
    }
   ],
   "source": [
    "def sumar (a, b):\n",
    "    return str(a) + str(b)\n",
    "\n",
    "sumar(10, 3)\n",
    "sumar(\"Hola\", \"qué tal\")\n",
    "\n",
    "sumar (10, \"esto es un diez\")"
   ]
  },
  {
   "cell_type": "markdown",
   "metadata": {
    "lang": "en"
   },
   "source": [
    "`count` Devuelve el número de veces que x aparece en la lista."
   ]
  },
  {
   "cell_type": "code",
   "execution_count": null,
   "metadata": {},
   "outputs": [
    {
     "data": {
      "text/plain": [
       "3"
      ]
     },
     "execution_count": 65,
     "metadata": {},
     "output_type": "execute_result"
    }
   ],
   "source": [
    "[True, False, True, True, False, False, False].count(True)\n",
    "# = sum([True, False, True, True, False, False, False]) equivale a lo mismo porque en los booleanos False=0, True=1\n",
    "'''counter = 0\n",
    "for i in [True, False, True, True, False, False, False]:\n",
    "    if i == True:\n",
    "        counter += 1\n",
    "counter''' #equivale tb a esta función"
   ]
  },
  {
   "cell_type": "code",
   "execution_count": 68,
   "metadata": {},
   "outputs": [
    {
     "data": {
      "text/plain": [
       "3"
      ]
     },
     "execution_count": 68,
     "metadata": {},
     "output_type": "execute_result"
    }
   ],
   "source": [
    "lst = [True, False, True, True, False, False, False]\n",
    "len([i for i in lst if i ==True])"
   ]
  },
  {
   "cell_type": "markdown",
   "metadata": {
    "lang": "en"
   },
   "source": [
    "`list.sort()` Véase también [sorted()](https://docs.python.org/3/howto/sorting.html). <br> Ordena "
   ]
  },
  {
   "cell_type": "code",
   "execution_count": 72,
   "metadata": {},
   "outputs": [
    {
     "data": {
      "text/plain": [
       "[872, 193, 133, 100, 0.875]"
      ]
     },
     "execution_count": 72,
     "metadata": {},
     "output_type": "execute_result"
    }
   ],
   "source": [
    "lst_ = [100, 872, 193, 0.875, 133]\n",
    "lst_.sort(reverse=True)\n",
    "lst_"
   ]
  },
  {
   "cell_type": "code",
   "execution_count": 73,
   "metadata": {},
   "outputs": [
    {
     "data": {
      "text/plain": [
       "[0.875, 100, 133, 193, 872]"
      ]
     },
     "execution_count": 73,
     "metadata": {},
     "output_type": "execute_result"
    }
   ],
   "source": [
    "lst_ = [100, 872, 193, 0.875, 133]\n",
    "sorted([100, 872, 193, 0.875, 133])"
   ]
  },
  {
   "cell_type": "code",
   "execution_count": null,
   "metadata": {},
   "outputs": [
    {
     "ename": "AttributeError",
     "evalue": "'str' object has no attribute 'sort'",
     "output_type": "error",
     "traceback": [
      "\u001b[0;31m---------------------------------------------------------------------------\u001b[0m",
      "\u001b[0;31mAttributeError\u001b[0m                            Traceback (most recent call last)",
      "Cell \u001b[0;32mIn[75], line 1\u001b[0m\n\u001b[0;32m----> 1\u001b[0m \u001b[38;5;124;43m\"\u001b[39;49m\u001b[38;5;124;43mabbzzzzzza\u001b[39;49m\u001b[38;5;124;43m\"\u001b[39;49m\u001b[38;5;241;43m.\u001b[39;49m\u001b[43msort\u001b[49m()\n",
      "\u001b[0;31mAttributeError\u001b[0m: 'str' object has no attribute 'sort'"
     ]
    }
   ],
   "source": [
    "\"abbzzzzzza\".sort() #no funciona\n",
    "sorted(\"abbzzzzzza\") #ordena letra por letra"
   ]
  },
  {
   "cell_type": "code",
   "execution_count": null,
   "metadata": {},
   "outputs": [],
   "source": [
    "[].sum()\n",
    "sum([])\n",
    "sum(\"a\", \"b\")\n",
    "\n",
    "\n",
    "[].sort()\n",
    "sorted([])\n",
    "sorted(\"\")\n",
    "\n",
    "# Las respuestas siempre están en la documentación"
   ]
  },
  {
   "cell_type": "markdown",
   "metadata": {
    "lang": "en"
   },
   "source": [
    "`list.reverse()`\n",
    "Invierte los elementos de la lista en su lugar."
   ]
  },
  {
   "cell_type": "code",
   "execution_count": null,
   "metadata": {},
   "outputs": [],
   "source": [
    "lst_ = [100, 872, 193, 0.875, 133]\n",
    "lst_.reverse()\n",
    "#lst_"
   ]
  },
  {
   "cell_type": "markdown",
   "metadata": {
    "lang": "en"
   },
   "source": [
    "`slicing` no es un método como tal, pero podemos jugar con los elementos de las listas y sus posiciones"
   ]
  },
  {
   "cell_type": "code",
   "execution_count": 35,
   "metadata": {},
   "outputs": [],
   "source": [
    "lst_ = [\"Alberto-0\", \"Blanca-1\", \"Carlos-2\", \"Daniela-3\", \"Edgar-4\"]"
   ]
  },
  {
   "cell_type": "markdown",
   "metadata": {},
   "source": [
    "`start, step, stop`"
   ]
  },
  {
   "cell_type": "code",
   "execution_count": 103,
   "metadata": {},
   "outputs": [
    {
     "data": {
      "text/plain": [
       "['Alberto-0', 'Blanca-1', 'Carlos-2', 'Daniela-3', 'Edgar-4']"
      ]
     },
     "execution_count": 103,
     "metadata": {},
     "output_type": "execute_result"
    }
   ],
   "source": [
    "lst_[:] # índice: de principio a fin  "
   ]
  },
  {
   "cell_type": "code",
   "execution_count": 104,
   "metadata": {},
   "outputs": [
    {
     "data": {
      "text/plain": [
       "['Alberto-0', 'Blanca-1']"
      ]
     },
     "execution_count": 104,
     "metadata": {},
     "output_type": "execute_result"
    }
   ],
   "source": [
    "lst_[:2]\n",
    "# start: defecto (principio)\n",
    "# stop: el 2 -> que es en realidad el 0 y el 1"
   ]
  },
  {
   "cell_type": "code",
   "execution_count": 36,
   "metadata": {},
   "outputs": [
    {
     "data": {
      "text/plain": [
       "['Alberto-0', 'Blanca-1', 'Carlos-2', 'Daniela-3', 'Edgar-4']"
      ]
     },
     "execution_count": 36,
     "metadata": {},
     "output_type": "execute_result"
    }
   ],
   "source": [
    "lst_"
   ]
  },
  {
   "cell_type": "code",
   "execution_count": null,
   "metadata": {},
   "outputs": [
    {
     "data": {
      "text/plain": [
       "['Blanca-1']"
      ]
     },
     "execution_count": 37,
     "metadata": {},
     "output_type": "execute_result"
    }
   ],
   "source": [
    "lst_[2:4] # ['Carlos-2', 'Daniela-3']: empieza en la posición 2 y acaba en la 3\n",
    "lst_[:4] #['Alberto-0', 'Blanca-1', 'Carlos-2', 'Daniela-3']\n",
    "lst_[1:] # ['Blanca-1', 'Carlos-2', 'Daniela-3', 'Edgar-4']\n",
    "lst_[1:2] #['Blanca-1']"
   ]
  },
  {
   "cell_type": "code",
   "execution_count": null,
   "metadata": {},
   "outputs": [
    {
     "data": {
      "text/plain": [
       "['Alberto-0', 'Blanca-1', 'Carlos-2', 'Daniela-3', 'Edgar-4']"
      ]
     },
     "execution_count": 110,
     "metadata": {},
     "output_type": "execute_result"
    }
   ],
   "source": [
    "lst_[::] #te los escribe de uno en uno\n",
    "lst_[::-1] # invierte (cuanta de 1 en un empezando por el -1)\n",
    "lst_[::2] # step -> cada dos elementos ['Alberto-0', 'Carlos-2', 'Edgar-4']\n",
    "lst_[::3] # step -> cada tres elementos ['Alberto-0', 'Daniela-3']\n",
    "lst_[::4] # step -> cada cuatro elementos"
   ]
  },
  {
   "cell_type": "code",
   "execution_count": null,
   "metadata": {},
   "outputs": [
    {
     "data": {
      "text/plain": [
       "1000"
      ]
     },
     "execution_count": 38,
     "metadata": {},
     "output_type": "execute_result"
    }
   ],
   "source": [
    "lst_ = [[2, 3, 9, 6], [0, 2, 1000, 1]]\n",
    "len(lst_)\n",
    "lst_[1][2] #dentro de la componente 1:[0, 2, 1000, 1] coge el elemento 2:1000"
   ]
  },
  {
   "cell_type": "code",
   "execution_count": null,
   "metadata": {},
   "outputs": [
    {
     "data": {
      "text/plain": [
       "30"
      ]
     },
     "execution_count": 128,
     "metadata": {},
     "output_type": "execute_result"
    }
   ],
   "source": [
    "lst_ = [[2, 3, 9, 6], [0, 2, 1000, [10, 20, 30]], [\"Hola\"]] \n",
    "len(lst_)\n",
    "lst_[1][3][-1] #dentro de la componente 1:[0, 2, 1000, [10, 20, 30]] coge el elemento 3:[10, 20, 30] y dentro de este el último 30"
   ]
  },
  {
   "cell_type": "code",
   "execution_count": null,
   "metadata": {},
   "outputs": [
    {
     "data": {
      "text/plain": [
       "'a'"
      ]
     },
     "execution_count": 131,
     "metadata": {},
     "output_type": "execute_result"
    }
   ],
   "source": [
    "lst_ = [[2, 3, 9, 6], # 0\n",
    "        [0, 2, 1000, [10, 20, 30]], # 1\n",
    "       [\"Hola\"]] # 2\n",
    "len(lst_)\n",
    "\n",
    "lst_[2][-1][-1] #la strin la divide"
   ]
  },
  {
   "cell_type": "code",
   "execution_count": null,
   "metadata": {},
   "outputs": [],
   "source": [
    "# una lista es un elemento iterable\n",
    "# una string también es un elemento iterable"
   ]
  },
  {
   "cell_type": "code",
   "execution_count": null,
   "metadata": {},
   "outputs": [],
   "source": [
    "# slicing: identificar/reconocer/ubicar elementos dentro del iterable\n",
    "    # segmentar/rebanar: elegir dónde empiezas/acabas\n",
    "# start, stop, step: cómo recorrer el iterable\n",
    "    # utiliza los índices del slicing\n"
   ]
  },
  {
   "cell_type": "markdown",
   "metadata": {},
   "source": [
    "### Tuplas <br>\n",
    "\n",
    "- lista: para ser trabajada/transformda <br>\n",
    "- tupla: información que no se planea que cambie tanto<br>\n",
    "    - tupla: es más difícil de transformar"
   ]
  },
  {
   "cell_type": "code",
   "execution_count": 134,
   "metadata": {},
   "outputs": [
    {
     "data": {
      "text/plain": [
       "('a', 'b')"
      ]
     },
     "execution_count": 134,
     "metadata": {},
     "output_type": "execute_result"
    }
   ],
   "source": [
    "(\"a\", \"b\")\n",
    "\n",
    "# Iterable\n",
    "# Está ordenado (los elementos se pueden identificar por posición/índice)\n",
    "# Puede contener cualquier tipo de dato/estructura\n",
    "# Pueden tener cosas repetidas (igual que las listas o las strs)"
   ]
  },
  {
   "cell_type": "code",
   "execution_count": null,
   "metadata": {},
   "outputs": [],
   "source": [
    "# python de forma interna utiliza / empaqueta las cosas en tuplas\n",
    "    # performance, python prefiere tuplas"
   ]
  },
  {
   "cell_type": "code",
   "execution_count": 140,
   "metadata": {},
   "outputs": [
    {
     "data": {
      "text/plain": [
       "tuple"
      ]
     },
     "execution_count": 140,
     "metadata": {},
     "output_type": "execute_result"
    }
   ],
   "source": [
    "type((\"Laura\", \"Carlos\", \"Carlos\"))"
   ]
  },
  {
   "cell_type": "code",
   "execution_count": null,
   "metadata": {},
   "outputs": [
    {
     "name": "stdout",
     "output_type": "stream",
     "text": [
      "Laura\n",
      "Carlos\n",
      "Carlos\n"
     ]
    }
   ],
   "source": [
    "#Lista\n",
    "for i in (\"Laura\", \"Carlos\", \"Carlos\"):\n",
    "    print(i)\n",
    "\n",
    "#TUPLA\n",
    "for i in [\"Laura\", \"Carlos\", \"Carlos\"]:\n",
    "    print(i)"
   ]
  },
  {
   "cell_type": "code",
   "execution_count": null,
   "metadata": {},
   "outputs": [
    {
     "data": {
      "text/plain": [
       "('Laura',)"
      ]
     },
     "execution_count": 147,
     "metadata": {},
     "output_type": "execute_result"
    }
   ],
   "source": [
    "(\"Laura\", \"Carlos\", \"Carlos\")[0:1] #LISTA ('Laura',)\n",
    "[\"Laura\", \"Carlos\", \"Carlos\"][0:1] #TUPLA [\"Laura\"]"
   ]
  },
  {
   "cell_type": "code",
   "execution_count": null,
   "metadata": {},
   "outputs": [
    {
     "data": {
      "text/plain": [
       "(3,)"
      ]
     },
     "execution_count": 159,
     "metadata": {},
     "output_type": "execute_result"
    }
   ],
   "source": [
    "tup_ = tuple()\n",
    "a = 3\n",
    "tup_ = a,   # int,\n",
    "tup_"
   ]
  },
  {
   "cell_type": "code",
   "execution_count": null,
   "metadata": {},
   "outputs": [
    {
     "data": {
      "text/plain": [
       "['count', 'index']"
      ]
     },
     "execution_count": 161,
     "metadata": {},
     "output_type": "execute_result"
    }
   ],
   "source": [
    "#a diferencia de las listas LAS TUPLAS SOLO TIENEN DOS MÉTODOS\n",
    "[i for i in dir(()) if \"_\" not in i]"
   ]
  },
  {
   "cell_type": "code",
   "execution_count": null,
   "metadata": {},
   "outputs": [
    {
     "data": {
      "text/plain": [
       "[1, 2, 3, '4', ['el cinco']]"
      ]
     },
     "execution_count": 166,
     "metadata": {},
     "output_type": "execute_result"
    }
   ],
   "source": [
    "#PARA MANIPULAR UNA TUPLA HAY QUE CONVERTIR LA EN UNA LISTA\n",
    "tup_ = (1, 2, 3, \"4\")\n",
    "hola = list(tup_)\n",
    "hola.append([\"el cinco\"])\n",
    "hola"
   ]
  },
  {
   "cell_type": "markdown",
   "metadata": {
    "lang": "en"
   },
   "source": [
    "Las tuplas en Python son un tipo de datos o estructura que permite almacenar datos de forma muy similar a las listas, excepto que son inmutables. Por lo tanto, no podremos:\n",
    "- cambiar los elementos\n",
    "- agregar nuevos valores"
   ]
  },
  {
   "cell_type": "markdown",
   "metadata": {},
   "source": [
    "- Listas: []\n",
    "- Tuplas: (), contienen diferentes tipos de datos. Tienen menos métodos porque están pensadas para ser un poco más inmutables. Python las utiliza mucho a nivel interno. "
   ]
  },
  {
   "cell_type": "markdown",
   "metadata": {
    "lang": "en"
   },
   "source": [
    "Ventajas de las tuplas\n",
    "* Más rápidas\n",
    "* Los datos no se pueden modificar\n",
    "\n",
    "También es posible que utilicemos tuplas cuando queramos devolver múltiples valores en el `return` de una función"
   ]
  },
  {
   "cell_type": "code",
   "execution_count": null,
   "metadata": {},
   "outputs": [
    {
     "name": "stdout",
     "output_type": "stream",
     "text": [
      "El resultado de la suma es 13\n"
     ]
    }
   ],
   "source": [
    "def sumar (a, b):\n",
    "    resultado = a + b\n",
    "    print(f\"El resultado de la suma es {resultado}\")\n",
    "    return a*100, b/2\n",
    "\n",
    "primer_elemento, segundo_elemento = sumar(10, 3)\n",
    "primer_elemento, segundo_elemento"
   ]
  },
  {
   "cell_type": "code",
   "execution_count": 44,
   "metadata": {
    "scrolled": true
   },
   "outputs": [
    {
     "name": "stdout",
     "output_type": "stream",
     "text": [
      "(10, 234, 1212, 3445)\n",
      "<class 'tuple'>\n"
     ]
    }
   ],
   "source": [
    "def sumar (*args):\n",
    "    print(args)\n",
    "    print(type(args))\n",
    "    counter = 0\n",
    "    for i in args: \n",
    "        counter += i\n",
    "    return counter\n",
    "    \n",
    "CONT= sumar(10, 234, 1212, 3445)"
   ]
  },
  {
   "cell_type": "markdown",
   "metadata": {},
   "source": [
    "-----------------------------"
   ]
  },
  {
   "cell_type": "markdown",
   "metadata": {},
   "source": [
    "#### 💪 Hands-on "
   ]
  },
  {
   "cell_type": "markdown",
   "metadata": {},
   "source": [
    "##### Challenge 1: Tuplas\n",
    "\n",
    "¿Sabías que puedes crear tuplas con un solo elemento?\n",
    "\n",
    "**En la celda a continuación, define una variable `tup` con un solo elemento `\"p\"`.**<br>"
   ]
  },
  {
   "cell_type": "markdown",
   "metadata": {},
   "source": [
    "##### Ahora intenta agregar los siguientes elementos a `tup`. \n",
    "\n",
    "¿Puedes hacerlo? Explícalo.\n",
    "\n",
    "```\n",
    "\"y\", \"t\", \"h\", \"o\", \"n\"\n",
    "```"
   ]
  },
  {
   "cell_type": "code",
   "execution_count": 95,
   "metadata": {},
   "outputs": [
    {
     "data": {
      "text/plain": [
       "'p'"
      ]
     },
     "execution_count": 95,
     "metadata": {},
     "output_type": "execute_result"
    }
   ],
   "source": [
    "tup_=tuple\n",
    "tup_=\"p\"\n",
    "tup_"
   ]
  },
  {
   "cell_type": "code",
   "execution_count": 111,
   "metadata": {},
   "outputs": [
    {
     "data": {
      "text/plain": [
       "['p', 'y', 't', 'h', 'o', 'n']"
      ]
     },
     "execution_count": 111,
     "metadata": {},
     "output_type": "execute_result"
    }
   ],
   "source": [
    "tup_=list(tup_)\n",
    "tup_.extend([\"y\",\"t\",\"h\",\"o\",\"n\"])\n",
    "tup_"
   ]
  },
  {
   "cell_type": "markdown",
   "metadata": {},
   "source": [
    "##### Divida `tup` en `tup1` y `tup2` con 4 elementos en cada uno. \n",
    "\n",
    "`tup1` debería ser `(\"p\", \"y\", \"t)` y `tup2` debería ser `(\"h\", \"o\", \"n\")`.\n",
    "\n",
    "*Sugerencia: use números de índice positivos para la asignación de `tup1` y use números de índice negativos para la asignación de `tup2`. Los números de índice positivos cuentan desde el principio, mientras que los números de índice negativos cuentan desde el final de la secuencia.*\n",
    "\n",
    "También imprima `tup1` y `tup2`."
   ]
  },
  {
   "cell_type": "code",
   "execution_count": 113,
   "metadata": {},
   "outputs": [
    {
     "data": {
      "text/plain": [
       "(['p', 'y', 't'], ['h', 'o', 'n'])"
      ]
     },
     "execution_count": 113,
     "metadata": {},
     "output_type": "execute_result"
    }
   ],
   "source": [
    "tup1=tup_[0:3]\n",
    "tup2=tup_[3:]\n",
    "tup1, tup2"
   ]
  },
  {
   "cell_type": "markdown",
   "metadata": {},
   "source": [
    "##### Agregue `tup1` y `tup2` en `tup3` usando el operador `+`.\n",
    "\n",
    "Luego imprima `tup3` y verifique si `tup3` es igual a `tup`."
   ]
  },
  {
   "cell_type": "code",
   "execution_count": 115,
   "metadata": {},
   "outputs": [
    {
     "data": {
      "text/plain": [
       "['p', 'y', 't', 'h', 'o', 'n']"
      ]
     },
     "execution_count": 115,
     "metadata": {},
     "output_type": "execute_result"
    }
   ],
   "source": [
    "tup3=tup1+tup2\n",
    "tup3"
   ]
  },
  {
   "cell_type": "markdown",
   "metadata": {},
   "source": [
    "##### ¿Cuál es el número de índice de `\"h\"` en `tup3`?"
   ]
  },
  {
   "cell_type": "code",
   "execution_count": 117,
   "metadata": {},
   "outputs": [
    {
     "data": {
      "text/plain": [
       "1"
      ]
     },
     "execution_count": 117,
     "metadata": {},
     "output_type": "execute_result"
    }
   ],
   "source": [
    "tup3.count(\"h\")"
   ]
  },
  {
   "cell_type": "markdown",
   "metadata": {},
   "source": [
    "##### Ahora, usa un bucle FOR para verificar si cada letra de la siguiente lista está presente en `tup3`:\n",
    "\n",
    "```\n",
    "letters = [\"a\", \"b\", \"c\", \"d\", \"e\"]\n",
    "```\n",
    "\n",
    "Para cada letra que verifiques, imprime `True` si está presente en `tup3`, de lo contrario imprime `False`.\n",
    "\n",
    "*Sugerencia: solo necesitas hacer un bucle en `letters`. No necesitas hacer un bucle en `tup3` porque hay un operador de Python `in` que puedes usar. Consulta la [referencia](https://stackoverflow.com/questions/17920147/how-to-check-if-a-tuple-contains-an-element-in-python).*"
   ]
  },
  {
   "cell_type": "code",
   "execution_count": 124,
   "metadata": {},
   "outputs": [
    {
     "name": "stdout",
     "output_type": "stream",
     "text": [
      "la letra h esta en la tupla letters\n"
     ]
    }
   ],
   "source": [
    "letters = [\"a\", \"h\", \"c\", \"d\", \"e\"]\n",
    "cont=False\n",
    "for i in letters:\n",
    "    cont = i in tup3\n",
    "    if cont == True:\n",
    "        print(f\"la letra {i} esta en la tupla letters\")\n",
    "    "
   ]
  },
  {
   "cell_type": "markdown",
   "metadata": {},
   "source": [
    "##### ¿Cuántas veces aparece cada letra de `letters` en `tup3`?\n",
    "\n",
    "Imprime la cantidad de veces que aparece cada letra."
   ]
  },
  {
   "cell_type": "code",
   "execution_count": 138,
   "metadata": {},
   "outputs": [
    {
     "name": "stdout",
     "output_type": "stream",
     "text": [
      "La letra y está 2 veces\n",
      "La letra h está 1 veces\n",
      "La letra y está 2 veces\n"
     ]
    }
   ],
   "source": [
    "len(tup3)\n",
    "tup3=(\"y\",\"h\",\"y\")\n",
    "valor=False\n",
    "for i in tup3:\n",
    "    cont = 0\n",
    "    for letra in tup3:\n",
    "        if letra == i:\n",
    "            cont = cont + 1\n",
    "    print(f\"La letra {i} está {cont} veces\")\n",
    "    "
   ]
  },
  {
   "cell_type": "code",
   "execution_count": null,
   "metadata": {},
   "outputs": [],
   "source": [
    "for i in tup3:\n",
    "    cont = tup3.count(i)\n",
    "    print(f\"La letra {i} está {cont} veces\")"
   ]
  },
  {
   "cell_type": "markdown",
   "metadata": {},
   "source": [
    "-----------------------------"
   ]
  },
  {
   "cell_type": "markdown",
   "metadata": {
    "slideshow": {
     "slide_type": "notes"
    }
   },
   "source": [
    "### Sets (conjuntos)\n",
    "Los sets (conjuntos) se utilizan para almacenar varios elementos en una única variable y ver los valores únicos de estructuras de datos\n",
    "<br> A diferencia de las listas: <br>\n",
    "- contienen elementos individuales <br>\n",
    "- no tienen un orden. <br>\n",
    "- no tiene valores repetidos\n",
    "\n",
    "dentro de una tabla: queramos ver valores únicos de fechas"
   ]
  },
  {
   "attachments": {
    "image.png": {
     "image/png": "[encoded data removed]"
    }
   },
   "cell_type": "markdown",
   "metadata": {},
   "source": [
    "![image.png](attachment:image.png)"
   ]
  },
  {
   "cell_type": "code",
   "execution_count": null,
   "metadata": {},
   "outputs": [
    {
     "data": {
      "text/plain": [
       "{1, 2, 3}"
      ]
     },
     "execution_count": 193,
     "metadata": {},
     "output_type": "execute_result"
    }
   ],
   "source": [
    "set([1, 2, 2, 2, 3]) #te da los elementos distintos"
   ]
  },
  {
   "cell_type": "markdown",
   "metadata": {},
   "source": [
    "#### METODOS DE CONJUNTOS"
   ]
  },
  {
   "cell_type": "code",
   "execution_count": 46,
   "metadata": {},
   "outputs": [
    {
     "data": {
      "text/plain": [
       "['clear',\n",
       " 'copy',\n",
       " 'fromkeys',\n",
       " 'get',\n",
       " 'items',\n",
       " 'keys',\n",
       " 'pop',\n",
       " 'popitem',\n",
       " 'setdefault',\n",
       " 'update',\n",
       " 'values']"
      ]
     },
     "execution_count": 46,
     "metadata": {},
     "output_type": "execute_result"
    }
   ],
   "source": [
    "[i for i in dir({}) if \"_\" not in i]"
   ]
  },
  {
   "cell_type": "code",
   "execution_count": 62,
   "metadata": {},
   "outputs": [],
   "source": [
    "set_a = {1, 2, 3, 4, 5}\n",
    "set_b = {6, 7, 8, 9, 10}"
   ]
  },
  {
   "cell_type": "markdown",
   "metadata": {
    "lang": "en"
   },
   "source": [
    "`add` Agrega un elemento al conjunto"
   ]
  },
  {
   "cell_type": "code",
   "execution_count": 63,
   "metadata": {},
   "outputs": [],
   "source": [
    "set_a.add(6)\n",
    "#set_a"
   ]
  },
  {
   "cell_type": "markdown",
   "metadata": {
    "lang": "en"
   },
   "source": [
    "`clear` Borra todos los elementos del conjunto"
   ]
  },
  {
   "cell_type": "code",
   "execution_count": null,
   "metadata": {},
   "outputs": [
    {
     "data": {
      "text/plain": [
       "set()"
      ]
     },
     "execution_count": 50,
     "metadata": {},
     "output_type": "execute_result"
    }
   ],
   "source": [
    "#set_a.clear\n",
    "#set_a"
   ]
  },
  {
   "cell_type": "markdown",
   "metadata": {
    "lang": "en"
   },
   "source": [
    "`copy` Devuelve una copia del conjunto"
   ]
  },
  {
   "cell_type": "code",
   "execution_count": null,
   "metadata": {},
   "outputs": [
    {
     "data": {
      "text/plain": [
       "{1, 2, 3, 4, 5}"
      ]
     },
     "execution_count": 54,
     "metadata": {},
     "output_type": "execute_result"
    }
   ],
   "source": [
    "copia=set_a.copy()\n",
    "#copia"
   ]
  },
  {
   "cell_type": "markdown",
   "metadata": {
    "lang": "en"
   },
   "source": [
    "`difference()` Devuelve un conjunto que contiene la diferencia entre dos o más conjuntos. Lo que realmente devuelve son los elementos que están SÓLO en el primer conjunto."
   ]
  },
  {
   "cell_type": "code",
   "execution_count": 211,
   "metadata": {},
   "outputs": [
    {
     "data": {
      "text/plain": [
       "{1, 2, 3, 4, 5}"
      ]
     },
     "execution_count": 211,
     "metadata": {},
     "output_type": "execute_result"
    }
   ],
   "source": [
    "set_a.difference(set_b)"
   ]
  },
  {
   "cell_type": "markdown",
   "metadata": {
    "lang": "en"
   },
   "source": [
    "`discard` Elimina el elemento especificado del conjunto solo si el elemento está presente en el conjunto.<br> Si el elemento no está presente en el conjunto, no se genera ningún error ni excepción y se imprime el conjunto original."
   ]
  },
  {
   "cell_type": "code",
   "execution_count": 58,
   "metadata": {},
   "outputs": [],
   "source": [
    "set_a.discard(7)"
   ]
  },
  {
   "cell_type": "markdown",
   "metadata": {
    "lang": "en"
   },
   "source": [
    "`remove` Elimina el elemento especificado. <br>\n",
    "si el elemento no esta te devuelve un error."
   ]
  },
  {
   "cell_type": "code",
   "execution_count": 61,
   "metadata": {},
   "outputs": [
    {
     "data": {
      "text/plain": [
       "{1, 4, 5}"
      ]
     },
     "execution_count": 61,
     "metadata": {},
     "output_type": "execute_result"
    }
   ],
   "source": [
    "set_a.remove(3)\n",
    "set_a"
   ]
  },
  {
   "cell_type": "markdown",
   "metadata": {
    "lang": "en"
   },
   "source": [
    "`intersection()` Devuelve un conjunto que es la intersección de dos o más conjuntos"
   ]
  },
  {
   "cell_type": "code",
   "execution_count": null,
   "metadata": {},
   "outputs": [
    {
     "name": "stdout",
     "output_type": "stream",
     "text": [
      "{6}\n"
     ]
    }
   ],
   "source": [
    "print(set_a.intersection(set_b))"
   ]
  },
  {
   "cell_type": "markdown",
   "metadata": {
    "lang": "en"
   },
   "source": [
    "`issubset` Devuelve si otro conjunto contiene o no este conjunto. ¿EL PRIMERO EN EL SEGUNDO?"
   ]
  },
  {
   "cell_type": "code",
   "execution_count": null,
   "metadata": {},
   "outputs": [
    {
     "data": {
      "text/plain": [
       "False"
      ]
     },
     "execution_count": 220,
     "metadata": {},
     "output_type": "execute_result"
    }
   ],
   "source": [
    "set_c = {1, 2, 3, 4, 5, 11}\n",
    "set_d =  {1, 2, 3, 4, 6, 7, 8, 9, 11}\n",
    "\n",
    "set_c.issubset(set_d) # Falso porque el 5 no esta"
   ]
  },
  {
   "cell_type": "markdown",
   "metadata": {
    "lang": "en"
   },
   "source": [
    "`issuperset` Devuelve si este conjunto contiene otro conjunto o no. ¿EL SEGUNDO EN EL PRIMERO?"
   ]
  },
  {
   "cell_type": "code",
   "execution_count": 223,
   "metadata": {},
   "outputs": [
    {
     "data": {
      "text/plain": [
       "False"
      ]
     },
     "execution_count": 223,
     "metadata": {},
     "output_type": "execute_result"
    }
   ],
   "source": [
    "set_c = {1, 2, 3, 4, 5}\n",
    "set_d =  {1, 2, 3, 4, 5, 6, 7, 8, 9, 10, 11}\n",
    "\n",
    "set_c.issuperset(set_d) # boolean (is...)"
   ]
  },
  {
   "cell_type": "markdown",
   "metadata": {
    "lang": "en"
   },
   "source": [
    "`pop` Elimina un elemento del conjunto. Elimina el PRIMER elemento de un conjunto y, además, nos lo devuelve. Se diferencia de las listas que no tienen parámetros a los que pasar un índice."
   ]
  },
  {
   "cell_type": "code",
   "execution_count": 74,
   "metadata": {},
   "outputs": [
    {
     "data": {
      "text/plain": [
       "1"
      ]
     },
     "execution_count": 74,
     "metadata": {},
     "output_type": "execute_result"
    }
   ],
   "source": [
    "set_a.pop()\n"
   ]
  },
  {
   "cell_type": "markdown",
   "metadata": {
    "lang": "en"
   },
   "source": [
    "`union` Devuelve un conjunto que contiene la unión de conjuntos"
   ]
  },
  {
   "cell_type": "code",
   "execution_count": 75,
   "metadata": {},
   "outputs": [
    {
     "data": {
      "text/plain": [
       "{2, 3, 4, 5, 6, 7, 8, 9, 10}"
      ]
     },
     "execution_count": 75,
     "metadata": {},
     "output_type": "execute_result"
    }
   ],
   "source": [
    "set_a.union(set_b)"
   ]
  },
  {
   "cell_type": "markdown",
   "metadata": {
    "lang": "en"
   },
   "source": [
    "`update` Actualiza el conjunto con otro conjunto o cualquier otro iterable. No devuelve uno nuevo, solo actualiza el anterior."
   ]
  },
  {
   "cell_type": "code",
   "execution_count": 77,
   "metadata": {},
   "outputs": [
    {
     "data": {
      "text/plain": [
       "{1, 2, 3, 4, 5, 6}"
      ]
     },
     "execution_count": 77,
     "metadata": {},
     "output_type": "execute_result"
    }
   ],
   "source": [
    "set_a.update({1})\n",
    "set_a"
   ]
  },
  {
   "cell_type": "markdown",
   "metadata": {},
   "source": [
    "#### 💪 Hands-on "
   ]
  },
  {
   "cell_type": "code",
   "execution_count": 139,
   "metadata": {},
   "outputs": [],
   "source": [
    "import random"
   ]
  },
  {
   "cell_type": "markdown",
   "metadata": {},
   "source": [
    "⚠️ ¿Te salió el mensaje: módulo no encontrado? Prueba en una celda: <br>\n",
    "`!pip install random`<br>\n",
    "`import random`"
   ]
  },
  {
   "cell_type": "markdown",
   "metadata": {},
   "source": [
    "#### En la celda siguiente, crea una lista llamada `sample_list_1` con 80 valores aleatorios. \n",
    "\n",
    "Requisitos:\n",
    "\n",
    "* Cada valor es un número entero comprendido entre 0 y 100.\n",
    "* Cada valor de la lista es único.\n",
    "\n",
    "Imprime `sample_list_1` para revisar sus valores\n",
    "\n",
    "*Sugerencia: usa `random.sample` ([referencia](https://docs.python.org/3/library/random.html#random.sample)).*"
   ]
  },
  {
   "cell_type": "code",
   "execution_count": 141,
   "metadata": {},
   "outputs": [],
   "source": [
    "sample_list_1 = random. sample(range (1, 100), 80)\n",
    "#sample_list_1"
   ]
  },
  {
   "cell_type": "markdown",
   "metadata": {},
   "source": [
    "#### Convierte `sample_list_1` en un conjunto llamado `set1`. Imprime la longitud del conjunto. ¿Su longitud sigue siendo 80?"
   ]
  },
  {
   "cell_type": "code",
   "execution_count": 142,
   "metadata": {},
   "outputs": [],
   "source": [
    "set1=set(sample_list_1)"
   ]
  },
  {
   "cell_type": "markdown",
   "metadata": {},
   "source": [
    "#### Crea otra lista llamada `sample_list_2` con 80 valores aleatorios.\n",
    "\n",
    "Requisitos:\n",
    "\n",
    "* Cada valor es un número entero comprendido entre 0 y 100.\n",
    "* Los valores de la lista no tienen que ser únicos.\n",
    "\n",
    "*Sugerencia: usa un bucle FOR.*"
   ]
  },
  {
   "cell_type": "code",
   "execution_count": 145,
   "metadata": {},
   "outputs": [
    {
     "data": {
      "text/plain": [
       "list"
      ]
     },
     "execution_count": 145,
     "metadata": {},
     "output_type": "execute_result"
    }
   ],
   "source": [
    "sample_list_2 = []\n",
    "for i in range(80):\n",
    "    sample_list_2.extend(random. sample(range(1, 100), 1))\n",
    "type (sample_list_2)"
   ]
  },
  {
   "cell_type": "markdown",
   "metadata": {},
   "source": [
    "#### Convierte `sample_list_2` en un conjunto llamado `set2`. Imprime la longitud del conjunto. ¿Su longitud sigue siendo 80?"
   ]
  },
  {
   "cell_type": "code",
   "execution_count": 146,
   "metadata": {},
   "outputs": [
    {
     "name": "stdout",
     "output_type": "stream",
     "text": [
      "53\n"
     ]
    }
   ],
   "source": [
    "set2=set(sample_list_2)\n",
    "print(len (set (sample_list_2)))"
   ]
  },
  {
   "cell_type": "markdown",
   "metadata": {},
   "source": [
    "#### Identifica los elementos presentes en `set1` pero no en `set2`. Asigna los elementos a un nuevo conjunto llamado `set3`."
   ]
  },
  {
   "cell_type": "code",
   "execution_count": 147,
   "metadata": {},
   "outputs": [],
   "source": [
    "set3=set1.difference(set2)"
   ]
  },
  {
   "cell_type": "markdown",
   "metadata": {},
   "source": [
    "#### Identifica los elementos presentes en `set2` pero no en `set1`. Asigna los elementos a un nuevo conjunto llamado `set4`."
   ]
  },
  {
   "cell_type": "code",
   "execution_count": 148,
   "metadata": {},
   "outputs": [],
   "source": [
    "set4=set2.difference(set1)"
   ]
  },
  {
   "cell_type": "markdown",
   "metadata": {},
   "source": [
    "#### Ahora, identifica los elementos compartidos entre `set1` y `set2`. Asigna los elementos a un nuevo conjunto llamado `set5`."
   ]
  },
  {
   "cell_type": "code",
   "execution_count": 149,
   "metadata": {},
   "outputs": [],
   "source": [
    "set5=set1.intersection(set2)"
   ]
  },
  {
   "cell_type": "markdown",
   "metadata": {},
   "source": [
    "#### ¿Cuál es la relación entre los siguientes valores:\n",
    "\n",
    "* len(set1)\n",
    "* len(set2)\n",
    "* len(set3)\n",
    "* len(set4)\n",
    "* len(set5)\n",
    "\n",
    "Use una fórmula matemática para representar esa relación. Pruebe su fórmula con código Python. "
   ]
  },
  {
   "cell_type": "code",
   "execution_count": null,
   "metadata": {},
   "outputs": [],
   "source": [
    "print(len(set1) == len(set3) + len(set5))  # True\n",
    "print(len(set2) == len(set4) + len(set5))  # True\n",
    "print(len(set1.union(set2)) == len(set3) + len(set4) + len(set5))  # True"
   ]
  },
  {
   "cell_type": "markdown",
   "metadata": {},
   "source": [
    "#### Elimina todos los elementos de la siguiente lista de `set1` si están presentes en el conjunto. Imprime los elementos restantes.\n",
    "\n",
    "```\n",
    "list_to_remove = [1, 9, 11, 19, 21, 29, 31, 39, 41, 49, 51, 59, 61, 69, 71, 79, 81, 89, 91, 99]\n",
    "```"
   ]
  },
  {
   "cell_type": "code",
   "execution_count": 153,
   "metadata": {},
   "outputs": [],
   "source": [
    "list_to_remove = [1, 9, 11, 19, 21, 29, 31, 39, 41, 49, 51, 59, 61, 69, 71, 79, 81, 89, 91, 99]\n",
    "set_remove=set(list_to_remove)\n",
    "set1.discard(set_remove)"
   ]
  },
  {
   "cell_type": "markdown",
   "metadata": {
    "lang": "en"
   },
   "source": [
    "### Diccionarios"
   ]
  },
  {
   "cell_type": "code",
   "execution_count": 84,
   "metadata": {},
   "outputs": [
    {
     "data": {
      "text/plain": [
       "30"
      ]
     },
     "execution_count": 84,
     "metadata": {},
     "output_type": "execute_result"
    }
   ],
   "source": [
    "info_persona = {\"Nombre\": \"Laura\",\n",
    "\"Edad\": 30,\n",
    "\"Ciudad\": [\"Valencia\", \"Teruel\"]}\n",
    "\n",
    "info_persona[\"Edad\"]\n",
    "\n",
    "# mapear / match / asignar un valor a una key"
   ]
  },
  {
   "cell_type": "markdown",
   "metadata": {},
   "source": [
    "#### MÉTODOS DICCIONARIOS"
   ]
  },
  {
   "cell_type": "code",
   "execution_count": null,
   "metadata": {},
   "outputs": [
    {
     "data": {
      "text/plain": [
       "['clear',\n",
       " 'copy',\n",
       " 'fromkeys',\n",
       " 'get',\n",
       " 'items',\n",
       " 'keys',\n",
       " 'pop',\n",
       " 'popitem',\n",
       " 'setdefault',\n",
       " 'update',\n",
       " 'values']"
      ]
     },
     "execution_count": 79,
     "metadata": {},
     "output_type": "execute_result"
    }
   ],
   "source": [
    "[i for i in dir({\"a\":\"b\"}) if '_' not in i]"
   ]
  },
  {
   "cell_type": "markdown",
   "metadata": {
    "lang": "en"
   },
   "source": [
    "`clear` Elimina todos los elementos del diccionario"
   ]
  },
  {
   "cell_type": "code",
   "execution_count": null,
   "metadata": {},
   "outputs": [],
   "source": [
    "#info_persona.clear()"
   ]
  },
  {
   "cell_type": "markdown",
   "metadata": {
    "lang": "en"
   },
   "source": [
    "`items()` Devuelve una lista que contiene una tupla para cada par clave-valor"
   ]
  },
  {
   "cell_type": "code",
   "execution_count": null,
   "metadata": {},
   "outputs": [],
   "source": [
    "info_persona.items() # te devuelve una lista de tuplas [(key,valor)]"
   ]
  },
  {
   "cell_type": "markdown",
   "metadata": {
    "lang": "en"
   },
   "source": [
    "`keys` Devuelve una lista de las claves en el diccionario"
   ]
  },
  {
   "cell_type": "code",
   "execution_count": null,
   "metadata": {},
   "outputs": [],
   "source": [
    "info_persona.keys() #los nombres de las key"
   ]
  },
  {
   "cell_type": "markdown",
   "metadata": {
    "lang": "en"
   },
   "source": [
    "`values` Devuelve una lista de todos los valores del diccionario"
   ]
  },
  {
   "cell_type": "code",
   "execution_count": null,
   "metadata": {},
   "outputs": [],
   "source": [
    "info_persona.values() # te devuelve los valores"
   ]
  },
  {
   "cell_type": "markdown",
   "metadata": {
    "lang": "en"
   },
   "source": [
    "`pop()` Elimina el elemento con la clave especificada. Me devuelve el valor."
   ]
  },
  {
   "cell_type": "code",
   "execution_count": 273,
   "metadata": {},
   "outputs": [
    {
     "data": {
      "text/plain": [
       "'LAURA'"
      ]
     },
     "execution_count": 273,
     "metadata": {},
     "output_type": "execute_result"
    }
   ],
   "source": [
    "nombre_eliminado = info_persona.pop(\"Nombre\")\n",
    "nombre_eliminado"
   ]
  },
  {
   "cell_type": "markdown",
   "metadata": {
    "lang": "en"
   },
   "source": [
    "`popitem` Elimina el último par clave-valor insertado"
   ]
  },
  {
   "cell_type": "code",
   "execution_count": 82,
   "metadata": {},
   "outputs": [
    {
     "data": {
      "text/plain": [
       "('Ciudad', ['Valencia', 'Teruel'])"
      ]
     },
     "execution_count": 82,
     "metadata": {},
     "output_type": "execute_result"
    }
   ],
   "source": [
    "info_persona.popitem()"
   ]
  },
  {
   "cell_type": "markdown",
   "metadata": {
    "lang": "en"
   },
   "source": [
    "`update` Actualiza el diccionario con los pares clave-valor especificados. Si la Key no existe la crea."
   ]
  },
  {
   "cell_type": "code",
   "execution_count": 85,
   "metadata": {},
   "outputs": [
    {
     "name": "stdout",
     "output_type": "stream",
     "text": [
      "{'Nombre': 'Laura', 'Edad': 30, 'Ciudad': ['Valencia', 'Teruel']}\n"
     ]
    },
    {
     "data": {
      "text/plain": [
       "{'Nombre': 'Laura', 'Edad': 31, 'Ciudad': ['Valencia', 'Teruel']}"
      ]
     },
     "execution_count": 85,
     "metadata": {},
     "output_type": "execute_result"
    }
   ],
   "source": [
    "print(info_persona)\n",
    "info_persona.update({\"Edad\": 31})\n",
    "info_persona"
   ]
  },
  {
   "cell_type": "code",
   "execution_count": null,
   "metadata": {},
   "outputs": [],
   "source": [
    "info_persona.update({\"hobby\":\"pádel\"})"
   ]
  },
  {
   "cell_type": "code",
   "execution_count": 263,
   "metadata": {},
   "outputs": [],
   "source": [
    "info_persona[\"hobby\"] = \"pádel\""
   ]
  },
  {
   "cell_type": "markdown",
   "metadata": {},
   "source": [
    "#### 💪 Hands-on "
   ]
  },
  {
   "cell_type": "code",
   "execution_count": 162,
   "metadata": {},
   "outputs": [],
   "source": [
    "# Crear un diccionario de estudiantes\n",
    "    # {:}\n",
    "\n",
    "#import numpy as np\n",
    "\n",
    "estudiantes= {\n",
    "    \"001\": {\"Nombre\": \"María\", \"Edad\": 30, \"Ciudad\": \"Valencia\"},\n",
    "    \"002\": {\"Nombre\": \"Carlos\", \"Edad\": -25, \"Ciudad\": \"Madrid\"},\n",
    "    \"003\": {\"Nombre\": \"José\", \"Edad\": 28, \"Ciudad\": \"Barcelona\"},\n",
    "}"
   ]
  },
  {
   "cell_type": "code",
   "execution_count": null,
   "metadata": {},
   "outputs": [
    {
     "data": {
      "text/plain": [
       "{'001': {'Nombre': 'María',\n",
       "  'Edad': 30,\n",
       "  'Ciudad': 'Valencia',\n",
       "  'Calificaciones': {'matemáticas': 8,\n",
       "   'Biología': 7,\n",
       "   'Física': 'np',\n",
       "   'Inglés': 'np'}},\n",
       " '002': {'Nombre': 'Carlos',\n",
       "  'Edad': -25,\n",
       "  'Ciudad': 'Madrid',\n",
       "  'Calificaciones': {'matemáticas': 9,\n",
       "   'Biología': 'np',\n",
       "   'Física': 8,\n",
       "   'Inglés': 'np'}},\n",
       " '003': {'Nombre': 'José',\n",
       "  'Edad': 28,\n",
       "  'Ciudad': 'Barcelona',\n",
       "  'Calificaciones': {'matemáticas': 'np',\n",
       "   'Biología': 'np',\n",
       "   'Física': 'np',\n",
       "   'Inglés': 3}}}"
      ]
     },
     "execution_count": 179,
     "metadata": {},
     "output_type": "execute_result"
    }
   ],
   "source": [
    "# Agregar un estudiante con sus calificaciones:\n",
    "    # María tiene ha sacado un 8 en Matemáticas y un 7 en Biología, \n",
    "    # Carlos tiene un 6 en Física y un 9 en Matemáticas, \n",
    "    # José un 3 en Inglés\n",
    "estudiantes[\"001\"][\"Calificaciones\"] = {\"matemáticas\" : 8, \"Biología\" : 7, \"Física\" : \"np\", \"Inglés\" : \"np\"}\n",
    "estudiantes[\"002\"][\"Calificaciones\"] = {\"matemáticas\" : 9, \"Biología\" : \"np\", \"Física\" : 8, \"Inglés\" : \"np\"}\n",
    "estudiantes[\"003\"][\"Calificaciones\"] = {\"matemáticas\" : \"np\", \"Biología\" : \"np\", \"Física\" : \"np\", \"Inglés\" : 3}\n",
    "#estudiantes\n"
   ]
  },
  {
   "cell_type": "code",
   "execution_count": 180,
   "metadata": {},
   "outputs": [
    {
     "name": "stdout",
     "output_type": "stream",
     "text": [
      "Nombre : María, Calificaciones : {'matemáticas': 8, 'Biología': 7, 'Física': 'np', 'Inglés': 'np'}\n",
      "Nombre : Carlos, Calificaciones : {'matemáticas': 9, 'Biología': 'np', 'Física': 8, 'Inglés': 'np'}\n",
      "Nombre : José, Calificaciones : {'matemáticas': 'np', 'Biología': 'np', 'Física': 'np', 'Inglés': 3}\n"
     ]
    }
   ],
   "source": [
    "# Muestra todos los estudiantes y sus calificaciones: usando print & format\n",
    "alum_1 = \"Nombre : {Nombre}, Calificaciones : {Calificaciones}\".format(**estudiantes[\"001\"])\n",
    "print(alum_1)\n",
    "alum_2 = \"Nombre : {Nombre}, Calificaciones : {Calificaciones}\".format(**estudiantes[\"002\"])\n",
    "print(alum_2)\n",
    "alum_3 = \"Nombre : {Nombre}, Calificaciones : {Calificaciones}\".format(**estudiantes[\"003\"])\n",
    "print(alum_3)"
   ]
  },
  {
   "cell_type": "code",
   "execution_count": 181,
   "metadata": {},
   "outputs": [
    {
     "name": "stdout",
     "output_type": "stream",
     "text": [
      "Alumno: María tiene un promedio de 7.5\n",
      "Alumno: Carlos tiene un promedio de 8.5\n",
      "Alumno: José tiene un promedio de 3.0\n"
     ]
    }
   ],
   "source": [
    "# Calcular el promedio de un estudiante\n",
    "for id_est, info in estudiantes.items():\n",
    "    cont=0\n",
    "    prom = 0\n",
    "    for materia, nota in info['Calificaciones'].items():\n",
    "        if nota != \"np\":\n",
    "            cont = cont + 1\n",
    "            prom = prom + nota\n",
    "    print(f\"Alumno: {info['Nombre']} tiene un promedio de {prom/cont}\")\n",
    "    \n"
   ]
  },
  {
   "cell_type": "code",
   "execution_count": null,
   "metadata": {},
   "outputs": [
    {
     "data": {
      "text/plain": [
       "{'Nombre': 'Carlos',\n",
       " 'Edad': -25,\n",
       " 'Ciudad': 'Madrid',\n",
       " 'Calificaciones': {'matemáticas': 9,\n",
       "  'Biología': 'np',\n",
       "  'Física': 5,\n",
       "  'Inglés': 'np'}}"
      ]
     },
     "execution_count": 183,
     "metadata": {},
     "output_type": "execute_result"
    }
   ],
   "source": [
    "# Actualizar la calificación de un estudiante: Carlos va a revisión y le bajan la nota de Física a un 5\n",
    "estudiantes[\"002\"][\"Calificaciones\"][\"Física\"]= 5\n"
   ]
  },
  {
   "cell_type": "code",
   "execution_count": 187,
   "metadata": {},
   "outputs": [],
   "source": [
    "def promedio_estudiante(estudiantes, id_est):\n",
    "    \"\"\"\n",
    "    Calcula la media de un estudiante dado su ID.\n",
    "    Ignora las materias con nota 'np'.\n",
    "    Convierte strings numéricos a enteros automáticamente.\n",
    "    \"\"\"\n",
    "    if id_est not in estudiantes:\n",
    "        return f\"No existe el estudiante con ID {id_est}\"\n",
    "    \n",
    "    info = estudiantes[id_est]\n",
    "    cont = 0\n",
    "    prom = 0\n",
    "    \n",
    "    for materia, nota in info['Calificaciones'].items():\n",
    "        if nota!=\"np\":  # solo sumamos números válidos\n",
    "            cont += 1\n",
    "            prom += nota\n",
    "    \n",
    "    if cont == 0:\n",
    "        return f\"El estudiante {info['Nombre']} no tiene calificaciones válidas\"\n",
    "    print(f\"Alumno: {info['Nombre']} tiene un promedio de {prom/cont}\")\n",
    "    return prom/cont\n"
   ]
  },
  {
   "cell_type": "code",
   "execution_count": null,
   "metadata": {},
   "outputs": [
    {
     "name": "stdout",
     "output_type": "stream",
     "text": [
      "Alumno: María tiene un promedio de 7.5\n"
     ]
    }
   ],
   "source": [
    "media_maria = promedio_estudiante(estudiantes, \"001\")"
   ]
  },
  {
   "cell_type": "code",
   "execution_count": 197,
   "metadata": {},
   "outputs": [
    {
     "name": "stdout",
     "output_type": "stream",
     "text": [
      "Alumno: María tiene un promedio de 7.5\n",
      "Alumno: Carlos tiene un promedio de 7.0\n",
      "Alumno: José tiene un promedio de 3.0\n",
      "5.83\n"
     ]
    }
   ],
   "source": [
    "# Calcula la media la clase\n",
    "cont=0\n",
    "prom=0\n",
    "if len(estudiantes.keys()) == 0:\n",
    "    print(\"el diccionario esta vacio\")\n",
    "else:\n",
    "    for i in estudiantes.keys():\n",
    "        cont = cont + 1\n",
    "        prom = prom + promedio_estudiante(estudiantes, i)\n",
    "    print(round(prom/cont,2))\n"
   ]
  },
  {
   "cell_type": "code",
   "execution_count": 192,
   "metadata": {},
   "outputs": [
    {
     "name": "stdout",
     "output_type": "stream",
     "text": [
      "Alumno: María tiene un promedio de 7.5\n",
      "el estduainte María ha aprobado \n",
      "Alumno: Carlos tiene un promedio de 7.0\n",
      "el estduainte Carlos ha aprobado \n",
      "Alumno: José tiene un promedio de 3.0\n",
      "el estduainte José ha suspendido \n"
     ]
    }
   ],
   "source": [
    "# ¿Qué alumnos han aprobado?\n",
    "media = 0\n",
    "for i in estudiantes.keys():\n",
    "    media = promedio_estudiante(estudiantes, i)\n",
    "    if media >= 5:\n",
    "        print(f\"el estduainte {estudiantes[i][\"Nombre\"]} ha aprobado \")\n",
    "    else: \n",
    "        print(f\"el estduainte {estudiantes[i][\"Nombre\"]} ha suspendido \")"
   ]
  },
  {
   "cell_type": "code",
   "execution_count": null,
   "metadata": {},
   "outputs": [],
   "source": [
    "#OTRA FORMA \n",
    "def promedio_por_nombre(estudiantes, nombre):\n",
    "    \"\"\"\n",
    "    Calcula la media de un estudiante dado su nombre.\n",
    "    Ignora materias con nota 'np' y convierte strings numéricos a int.\n",
    "    \"\"\"\n",
    "    # Buscar el estudiante por nombre\n",
    "    for info in estudiantes.values():\n",
    "        if info[\"Nombre\"] == nombre:\n",
    "            cont = 0\n",
    "            prom = 0\n",
    "            for materia, nota in info[\"Calificaciones\"].items():\n",
    "                if nota != \"np\":\n",
    "                    cont += 1\n",
    "                    prom += nota\n",
    "            \n",
    "            if cont == 0:\n",
    "                return f\"{nombre} no tiene calificaciones válidas\"\n",
    "            \n",
    "            return prom / cont\n",
    "    \n",
    "    return f\"No se encontró ningún estudiante llamado {nombre}\"\n"
   ]
  },
  {
   "cell_type": "markdown",
   "metadata": {
    "lang": "en"
   },
   "source": [
    "## Resumen (TRANSFORMAR DICCIONARIOS EN TABLAS)\n",
    "Ahora te toca a ti, ¿qué hemos aprendido hoy?"
   ]
  },
  {
   "cell_type": "code",
   "execution_count": null,
   "metadata": {},
   "outputs": [],
   "source": [
    "# []\n",
    "# () menos modificables, python\n",
    "# {} conjuntos: pertenencia: identificar grupos y ver valores únicos\n",
    "# {:}: nos mapean información teniendo un valor y su significado"
   ]
  },
  {
   "cell_type": "code",
   "execution_count": 282,
   "metadata": {},
   "outputs": [
    {
     "data": {
      "text/plain": [
       "[{'Nombre': 'Carlos', 'Ciudad': 'Tarragona'},\n",
       " {'Nombre': 'David', 'Ciudad': 'Murcia'}]"
      ]
     },
     "execution_count": 282,
     "metadata": {},
     "output_type": "execute_result"
    }
   ],
   "source": [
    "import pandas as pd\n",
    "alumno_1 = {\"Nombre\":\"Carlos\", \"Ciudad\":\"Tarragona\"}\n",
    "alumno_2 = {\"Nombre\":\"David\", \"Ciudad\":\"Murcia\"}\n",
    "alumnos = [alumno_1, alumno_2]\n",
    "alumnos"
   ]
  },
  {
   "cell_type": "code",
   "execution_count": 289,
   "metadata": {},
   "outputs": [
    {
     "data": {
      "text/html": [
       "<div>\n",
       "<style scoped>\n",
       "    .dataframe tbody tr th:only-of-type {\n",
       "        vertical-align: middle;\n",
       "    }\n",
       "\n",
       "    .dataframe tbody tr th {\n",
       "        vertical-align: top;\n",
       "    }\n",
       "\n",
       "    .dataframe thead th {\n",
       "        text-align: right;\n",
       "    }\n",
       "</style>\n",
       "<table border=\"1\" class=\"dataframe\">\n",
       "  <thead>\n",
       "    <tr style=\"text-align: right;\">\n",
       "      <th></th>\n",
       "      <th>Nombre</th>\n",
       "      <th>Ciudad</th>\n",
       "    </tr>\n",
       "  </thead>\n",
       "  <tbody>\n",
       "    <tr>\n",
       "      <th>0</th>\n",
       "      <td>Carlos</td>\n",
       "      <td>Tarragona</td>\n",
       "    </tr>\n",
       "    <tr>\n",
       "      <th>1</th>\n",
       "      <td>David</td>\n",
       "      <td>Murcia</td>\n",
       "    </tr>\n",
       "  </tbody>\n",
       "</table>\n",
       "</div>"
      ],
      "text/plain": [
       "   Nombre     Ciudad\n",
       "0  Carlos  Tarragona\n",
       "1   David     Murcia"
      ]
     },
     "execution_count": 289,
     "metadata": {},
     "output_type": "execute_result"
    }
   ],
   "source": [
    "df = pd.DataFrame(alumnos)\n",
    "# estructura tabular -> una lista de diccionarios\n",
    "df"
   ]
  },
  {
   "cell_type": "code",
   "execution_count": null,
   "metadata": {},
   "outputs": [],
   "source": [
    "df_2 = df.copy()\n",
    "df_3 = pd.concat([df, df_2])\n",
    "df_3"
   ]
  },
  {
   "cell_type": "code",
   "execution_count": 297,
   "metadata": {},
   "outputs": [
    {
     "data": {
      "text/plain": [
       "(4, 2)"
      ]
     },
     "execution_count": 297,
     "metadata": {},
     "output_type": "execute_result"
    }
   ],
   "source": [
    "df_3.shape # atributos - cosas - sustantivos"
   ]
  }
 ],
 "metadata": {
  "author": "https://github.com/breogann",
  "created": "2021",
  "kernelspec": {
   "display_name": "Python 3",
   "language": "python",
   "name": "python3"
  },
  "language_info": {
   "codemirror_mode": {
    "name": "ipython",
    "version": 3
   },
   "file_extension": ".py",
   "mimetype": "text/x-python",
   "name": "python",
   "nbconvert_exporter": "python",
   "pygments_lexer": "ipython3",
   "version": "3.13.7"
  },
  "nbTranslate": {
   "displayLangs": [
    "en",
    "es"
   ],
   "hotkey": "alt-a",
   "langInMainMenu": true,
   "sourceLang": "es",
   "targetLang": "en",
   "useGoogleTranslate": true
  },
  "toc": {
   "base_numbering": 1,
   "nav_menu": {},
   "number_sections": true,
   "sideBar": true,
   "skip_h1_title": true,
   "title_cell": "Table of Contents",
   "title_sidebar": "Contents",
   "toc_cell": true,
   "toc_position": {
    "height": "calc(100% - 180px)",
    "left": "10px",
    "top": "150px",
    "width": "222.891px"
   },
   "toc_section_display": true,
   "toc_window_display": false
  },
  "varInspector": {
   "cols": {
    "lenName": 16,
    "lenType": 16,
    "lenVar": 40
   },
   "kernels_config": {
    "python": {
     "delete_cmd_postfix": "",
     "delete_cmd_prefix": "del ",
     "library": "var_list.py",
     "varRefreshCmd": "print(var_dic_list())"
    },
    "r": {
     "delete_cmd_postfix": ") ",
     "delete_cmd_prefix": "rm(",
     "library": "var_list.r",
     "varRefreshCmd": "cat(var_dic_list()) "
    }
   },
   "types_to_exclude": [
    "module",
    "function",
    "builtin_function_or_method",
    "instance",
    "_Feature"
   ],
   "window_display": false
  }
 },
 "nbformat": 4,
 "nbformat_minor": 4
}
