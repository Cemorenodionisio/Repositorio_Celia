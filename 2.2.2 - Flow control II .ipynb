{
 "cells": [
  {
   "cell_type": "code",
   "execution_count": null,
   "id": "13687851",
   "metadata": {},
   "outputs": [],
   "source": [
    "# iterar:\n",
    "    # for -> iterar un iterable hasta que acabe: recorre todos los elementos que tenga\n",
    "    # while -> recorrer HASTA que se cumpla una condición\n",
    "        # while -> hasta el infinito\n",
    "    # range\n",
    "    # enumerate:\n",
    "        # for index, elem in enumerate(iterable)\n",
    "    # zip\n",
    "        # for elem_iter_1, elem_iter_2 in zip(iterable1, iterable2)\n",
    "        # combinado el zip con el enumerate -> range \n",
    "    # comprehension lists"
   ]
  },
  {
   "cell_type": "markdown",
   "id": "classical-passenger",
   "metadata": {},
   "source": [
    "## For"
   ]
  },
  {
   "cell_type": "markdown",
   "id": "fdb36275",
   "metadata": {
    "lang": "en"
   },
   "source": [
    "Es muy habitual escribir un código con bucles dentro de estas dos posibles situaciones:\n",
    "- 1: Cuando utilizamos un contador dentro de una repetición. El contador es una variable que aumenta o disminuye de forma constante en cada iteración del bucle hasta llegar a un valor límite que marca el final de las repeticiones.\n",
    "- 2: Cuando iteramos sobre los elementos de un contenedor, por ejemplo, una lista, para operar sobre cada uno de ellos. Además en este caso sabemos de antemano el número de repeticiones que se van a producir."
   ]
  },
  {
   "cell_type": "markdown",
   "id": "753d6746",
   "metadata": {
    "lang": "en"
   },
   "source": [
    "La sentencia For, en Python, permite iterar sobre secuencias de valores (listas o cadenas) según un orden establecido. A diferencia de otros lenguajes, con el for de Python no se definen contadores o expresiones que cambien en cada iteración, sino una secuencia sobre la que la variable contador tomará sus valores. En cualquier caso, es la opción más adecuada para resolver los dos casos anteriores...pongamos un ejemplo:"
   ]
  },
  {
   "cell_type": "markdown",
   "id": "a968f25d",
   "metadata": {
    "lang": "en"
   },
   "source": [
    "La sentencia for, en Python, itera sobre colecciones. Por lo tanto, si necesitamos un contador que se incremente en cada iteración, Python proporciona la función range(), que genera listas de números enteros. Esta función permite generar secuencias y es bastante versátil, ya que podemos invocarla de diferentes maneras:"
   ]
  },
  {
   "cell_type": "markdown",
   "id": "5109ef4d",
   "metadata": {
    "lang": "en"
   },
   "source": [
    "- Con un único argumento: genera números enteros que van desde 0 hasta el anterior indicado como parámetro:\n",
    "\n",
    "`range(int)`"
   ]
  },
  {
   "cell_type": "code",
   "execution_count": 4,
   "id": "5f916bd1",
   "metadata": {},
   "outputs": [
    {
     "name": "stdout",
     "output_type": "stream",
     "text": [
      "el `range(0) va desde hasta: range(0, 0) y el `range(10): range(0, 10)\n",
      "0\n",
      "1\n",
      "2\n",
      "3\n",
      "4\n",
      "5\n",
      "6\n",
      "7\n",
      "8\n",
      "9\n"
     ]
    }
   ],
   "source": [
    "print(f\"el `range(0) va desde hasta: {range(0)} y el `range(10): {range(10)}\") "
   ]
  },
  {
   "cell_type": "markdown",
   "id": "88f9f5a9",
   "metadata": {
    "lang": "en"
   },
   "source": [
    "- Con dos argumentos. El primer parámetro es el valor inicial y el segundo el valor por debajo del cual deben estar los elementos de la lista:\n",
    "\n",
    "`range(int, int)`"
   ]
  },
  {
   "cell_type": "code",
   "execution_count": null,
   "id": "57ccc729",
   "metadata": {},
   "outputs": [],
   "source": [
    "for i in range(5, 21): #llega de 5 a 20 \n",
    "    print(i)"
   ]
  },
  {
   "cell_type": "markdown",
   "id": "81739599",
   "metadata": {
    "lang": "en"
   },
   "source": [
    "- Con tres argumentos. Igual que el anterior, pero el tercer parámetro indica el incremento que se produce de un elemento al siguiente: `range(int, int, increment)`"
   ]
  },
  {
   "cell_type": "code",
   "execution_count": 17,
   "id": "f96e2fb5",
   "metadata": {},
   "outputs": [
    {
     "name": "stdout",
     "output_type": "stream",
     "text": [
      "5\n",
      "8\n",
      "11\n",
      "14\n",
      "17\n",
      "20\n"
     ]
    }
   ],
   "source": [
    "for i in range(5, 21, 3): # start, stop, step\n",
    "    print(i)"
   ]
  },
  {
   "cell_type": "code",
   "execution_count": 20,
   "id": "de19f941",
   "metadata": {},
   "outputs": [
    {
     "data": {
      "text/plain": [
       "range(0, 101, 2)"
      ]
     },
     "execution_count": 20,
     "metadata": {},
     "output_type": "execute_result"
    }
   ],
   "source": [
    "# los números de 1-100 pares\n",
    "range(0, 101, 2)"
   ]
  },
  {
   "cell_type": "markdown",
   "id": "closing-pound",
   "metadata": {
    "lang": "es"
   },
   "source": [
    "### Iterar a través de strings"
   ]
  },
  {
   "cell_type": "code",
   "execution_count": 5,
   "id": "04f52fd3",
   "metadata": {},
   "outputs": [
    {
     "name": "stdout",
     "output_type": "stream",
     "text": [
      "h\n",
      "o\n",
      "l\n",
      "a\n"
     ]
    }
   ],
   "source": [
    "str_= \"hola\"\n",
    "# str_ = \"Para hacer una iteración por una str_\"\n",
    "for i in str_:\n",
    "    print(i)"
   ]
  },
  {
   "cell_type": "code",
   "execution_count": null,
   "id": "ec47dbb8",
   "metadata": {},
   "outputs": [],
   "source": [
    "# Refactorizar\n",
    "    # Cambiar la forma sin cambiar la función, haciendo el código más limpio/eficiente/corto/simple"
   ]
  },
  {
   "cell_type": "markdown",
   "id": "fef0c8a5",
   "metadata": {
    "lang": "en"
   },
   "source": [
    "### Iterar a través de una lista"
   ]
  },
  {
   "cell_type": "code",
   "execution_count": 7,
   "id": "ef71cee6",
   "metadata": {},
   "outputs": [
    {
     "data": {
      "text/plain": [
       "['PLAY', 'BAR', 'DATE', 'THAT', 'STORY']"
      ]
     },
     "execution_count": 7,
     "metadata": {},
     "output_type": "execute_result"
    }
   ],
   "source": [
    "words = [\"play\", \"bar\", \"date\", \"that\", \"story\"]\n",
    "\n",
    "new_list = []\n",
    "\n",
    "for each_word in words:\n",
    "    # transforma\n",
    "    #each_word = each_word.upper()\n",
    "    # se apendea a la new_list\n",
    "    new_list.append(each_word.upper())\n",
    "new_list"
   ]
  },
  {
   "cell_type": "markdown",
   "id": "cd740c33",
   "metadata": {
    "lang": "en"
   },
   "source": [
    "### Iterar sobre los elementos de un diccionario"
   ]
  },
  {
   "cell_type": "code",
   "execution_count": null,
   "id": "f574c07b",
   "metadata": {},
   "outputs": [
    {
     "data": {
      "text/plain": [
       "['PLAY', 'bar', 'date', 'that', 'story']"
      ]
     },
     "execution_count": 38,
     "metadata": {},
     "output_type": "execute_result"
    }
   ],
   "source": [
    "#RENOMBRAR UNA PARTE DE LA LISTA.\n",
    "words[0]  =\"PLAY\"\n",
    "words"
   ]
  },
  {
   "cell_type": "code",
   "execution_count": null,
   "id": "694394c6",
   "metadata": {},
   "outputs": [],
   "source": [
    "list_of_lists = [[[1, 1.5], [2, 2.5]], [[3, 3.5], [4, 4.5]]]\n",
    "flattened_list = [] # [1, 1.5, 2, 2.5...]\n",
    "\n",
    "for primer_nivel in list_of_lists:\n",
    "    print(primer_nivel)\n",
    "    for segundo_nivel in primer_nivel:\n",
    "        for tercer_nivel in segundo_nivel:\n",
    "            flattened_list.append(tercer_nivel)\n",
    "flattened_list"
   ]
  },
  {
   "cell_type": "code",
   "execution_count": 75,
   "id": "adc9873f",
   "metadata": {},
   "outputs": [
    {
     "data": {
      "text/plain": [
       "[1, 1.5, 2, 2.5, 3, 3.5, 4, 4.5, 5, 5.5, 6, 6.5]"
      ]
     },
     "execution_count": 75,
     "metadata": {},
     "output_type": "execute_result"
    }
   ],
   "source": [
    "lst_ = [\n",
    "    [[[1, 1.5], [2, 2.5]], [[3, 3.5]]],\n",
    "    [[[4, 4.5], [5, 5.5]], [[6, 6.5]]]\n",
    "]\n",
    "\n",
    "flattened_list = [nivel4 for nivel1 in lst_ for nivel2 in nivel1 for nivel3 in nivel2 for nivel4 in nivel3]\n",
    "flattened_list"
   ]
  },
  {
   "cell_type": "markdown",
   "id": "6c57c1c6-b4bf-4dd0-b605-b1d6114cfaa9",
   "metadata": {},
   "source": [
    "### 💪 Hands-on\n",
    "\n",
    "```python\n",
    "import time\n",
    "\n",
    "def countdown(minutes, task=None):\n",
    "    counter = f\"Counting down: {minutes} minute{'s' if minutes > 1 else ''}... 🕰️.\"\n",
    "    if task != None: \n",
    "        counter += f\" Task: {task}\"\n",
    "    while minutes > 0:\n",
    "        print(counter)\n",
    "        time.sleep(60)\n",
    "        minutes -= 1\n",
    "    print(\"Time's up! 🎉\")\n",
    "````"
   ]
  },
  {
   "cell_type": "markdown",
   "id": "4d3529e8-0553-4915-8ed3-9d86ad3bea48",
   "metadata": {},
   "source": [
    "#### Palabras"
   ]
  },
  {
   "cell_type": "code",
   "execution_count": 8,
   "id": "479c2425",
   "metadata": {},
   "outputs": [],
   "source": [
    "palabras = [\"hola\", \"que\", \"tal\", \"estas\", \"Celia\"]"
   ]
  },
  {
   "cell_type": "markdown",
   "id": "b62ebb5d-5cc9-4c0e-8fdf-f2d9fd8bb19f",
   "metadata": {},
   "source": [
    "**Imprime cada palabra en mayúsculas**"
   ]
  },
  {
   "cell_type": "code",
   "execution_count": null,
   "id": "92c0c7a9-8c6e-4469-8903-a31712cb97b1",
   "metadata": {},
   "outputs": [],
   "source": [
    "# Transformar una string en mayúsculas: cambiando sólo las consonantes y resto de caracteres\n",
    "    # aplicar el .upper()\n",
    "    # filrtar por vocales\n",
    "\n",
    "str_ = \"Para hacer una iteración por una str_\"\n",
    "str_mayuscula_no_vocales = \"\"\n",
    "\n",
    "for i in str_:\n",
    "    if i not in \"aeiou\":\n",
    "        str_mayuscula_no_vocales += i.upper()\n",
    "str_mayuscula_no_vocales"
   ]
  },
  {
   "cell_type": "markdown",
   "id": "2a05e2f8-7ae1-4aa1-9ff0-9ea0f97c8eef",
   "metadata": {},
   "source": [
    "**Crea una nueva lista que contenga sólo palabras con 5 o más letras**"
   ]
  },
  {
   "cell_type": "code",
   "execution_count": 37,
   "id": "7010913c-f5b6-4ef6-87e0-8720bb9438be",
   "metadata": {},
   "outputs": [
    {
     "name": "stdout",
     "output_type": "stream",
     "text": [
      "hacer iteración \n"
     ]
    }
   ],
   "source": [
    "str_ = \"Para hacer una iteración por una str_\"\n",
    "str_con_mas_de_5letras = \"\"\n",
    "cont = 0\n",
    "cont_palabra = \"\"\n",
    "for letra in str_:\n",
    "    if letra != \" \" :\n",
    "        cont +=1\n",
    "        cont_palabra += letra\n",
    "    else: \n",
    "        if cont>= 5:\n",
    "            str_con_mas_de_5letras += (cont_palabra + \" \")\n",
    "        cont_palabra = \"\"\n",
    "        cont = 0\n",
    "print(str_con_mas_de_5letras)"
   ]
  },
  {
   "cell_type": "markdown",
   "id": "783ddb0c-607c-4c0b-b36f-3269271197b0",
   "metadata": {},
   "source": [
    "**Imprime la primera palabra que empieza con \"t\"**"
   ]
  },
  {
   "cell_type": "code",
   "execution_count": 52,
   "id": "0ab4408a-d0b4-4155-80e0-2a1238433864",
   "metadata": {},
   "outputs": [
    {
     "name": "stdout",
     "output_type": "stream",
     "text": [
      "Primera palabra que empieza con 't': ['t,', 'teresa']\n"
     ]
    }
   ],
   "source": [
    "texto = \"Para hacer una iteración por una str_ que empiece con la letra t, como teresa pero no como celia\"\n",
    "encontrada = []\n",
    "\n",
    "for palabra in texto.split():\n",
    "    if palabra.lower().startswith(\"t\"):\n",
    "        encontrada.append(palabra) \n",
    "\n",
    "\n",
    "if encontrada:\n",
    "    print(\"Primera palabra que empieza con 't':\", encontrada)\n",
    "else:\n",
    "    print(\"No hay palabras que empiecen con 't'\")"
   ]
  },
  {
   "cell_type": "markdown",
   "id": "17832115",
   "metadata": {
    "lang": "en"
   },
   "source": [
    "## La sentencia \"while\"\n",
    "\n",
    "A veces queremos ejecutar un programa hasta que se cumpla una condición. Podemos lograrlo con la cláusula \"while\".\n",
    "\n",
    "**Nota:** ¡Cuidado con las recursiones infinitas!"
   ]
  },
  {
   "cell_type": "code",
   "execution_count": 5,
   "id": "2ea0675e",
   "metadata": {},
   "outputs": [
    {
     "name": "stdout",
     "output_type": "stream",
     "text": [
      "El saldo antes de sacar es 17\n",
      "BALANCE: 12\n",
      "\n",
      "El saldo antes de sacar es 12\n",
      "BALANCE: 7\n",
      "\n",
      "El saldo antes de sacar es 7\n",
      "BALANCE: 2\n",
      "\n"
     ]
    }
   ],
   "source": [
    "# for: iterar hasta que acabe: ciclos/ieraciones como elementos\n",
    "# while: HASTA CONDICIÓN\n",
    "import time\n",
    "\n",
    "dinero_cuenta = 17\n",
    "\n",
    "while dinero_cuenta >= 5:\n",
    "    #time.sleep(2)\n",
    "    print(f\"El saldo antes de sacar es {dinero_cuenta}\")\n",
    "    dinero_cuenta -=  5\n",
    "    print(f\"BALANCE: {dinero_cuenta}\\n\")"
   ]
  },
  {
   "cell_type": "markdown",
   "id": "ba1c5adf",
   "metadata": {
    "lang": "en"
   },
   "source": [
    "En el caso de while True, la expresión siempre se evaluará como verdadera por definición.\n",
    "Sería equivalente a:\n",
    "\n",
    "```python\n",
    "mientras true sea verdadero:\n",
    "hacer algo\n",
    "````"
   ]
  },
  {
   "cell_type": "markdown",
   "id": "587399ed",
   "metadata": {
    "lang": "en"
   },
   "source": [
    "🐒 - Escribimos un programa que le pide al usuario una letra entre a y d eternamente hasta que ingrese una correctamente."
   ]
  },
  {
   "cell_type": "code",
   "execution_count": 22,
   "id": "fe8559f5",
   "metadata": {},
   "outputs": [
    {
     "data": {
      "text/plain": [
       "'dCba'"
      ]
     },
     "execution_count": 22,
     "metadata": {},
     "output_type": "execute_result"
    }
   ],
   "source": [
    "letras = {\"a\", \"b\", \"C\", \"d\"}\n",
    "\"\".join(letras)"
   ]
  },
  {
   "cell_type": "code",
   "execution_count": 53,
   "id": "c93f4a53",
   "metadata": {},
   "outputs": [
    {
     "name": "stdout",
     "output_type": "stream",
     "text": [
      "Esta letra c no está en las opciones disponibles, pon otra\n",
      "OK! Letra d es correcta ✅\n"
     ]
    }
   ],
   "source": [
    "#Este no funciona porque distingue entre mayuscula y minuscula.\n",
    "\n",
    "input_usuario = input(\"Introduce una letra de la A a la D: \")\n",
    "letras = {\"a\", \"b\", \"C\", \"d\"} # set: valores únicos sin orden\n",
    "\n",
    "while input_usuario not in letras:\n",
    "    print(f\"Esta letra {input_usuario} no está en las opciones disponibles, pon otra\")\n",
    "    input_usuario = input(\"Introduce una letra de la A a la D: \")\n",
    "print(f\"OK! Letra {input_usuario} es correcta ✅\")"
   ]
  },
  {
   "cell_type": "code",
   "execution_count": null,
   "id": "ec9159e9",
   "metadata": {},
   "outputs": [
    {
     "name": "stdout",
     "output_type": "stream",
     "text": [
      "PRIMER INTENTO: hhh\n",
      "Esta letra hhh no está en las opciones disponibles, pon otra\n",
      "Esta letra h no está en las opciones disponibles, pon otra\n",
      "Esta letra rirmf no está en las opciones disponibles, pon otra\n",
      "Esta letra df no está en las opciones disponibles, pon otra\n",
      "Esta letra dfa no está en las opciones disponibles, pon otra\n",
      "OK! Letra a es correcta ✅\n"
     ]
    }
   ],
   "source": [
    "#ESTE NO DISTINGUE MAYUSCULAS NI MINISCULAS Y PERO NO PARA NUNCA ES INFINITO HASTA QUE SE INTRODUCCA ALGO VALIDO\n",
    "\n",
    "input_usuario = input(\"Fuera del bucle: \")\n",
    "print(f\"PRIMER INTENTO: {input_usuario}\")\n",
    "letras = {\"a\", \"b\", \"C\", \"d\"} # set: valores únicos sin orden\n",
    "\n",
    "while input_usuario.lower() not in \"\".join(letras).lower(): # False\n",
    "    print(f\"Esta letra {input_usuario} no está en las opciones disponibles, pon otra\")\n",
    "    input_usuario = input(\"Siguiente intento: \") # a\n",
    "    \n",
    "print(f\"OK! Letra {input_usuario} es correcta ✅\")"
   ]
  },
  {
   "cell_type": "code",
   "execution_count": null,
   "id": "a15489da",
   "metadata": {},
   "outputs": [
    {
     "name": "stdout",
     "output_type": "stream",
     "text": [
      "PRIMER INTENTO: l\n",
      "Número de intentos acabados\n"
     ]
    }
   ],
   "source": [
    "#ESTE NO DISTINGUE MAYUSCULAS NI MINISCULAS Y ENCIMA LO PODEMOS HACER PARA QUE SE CORTE EN ALGUN MOMENTO \n",
    "n_tries = 1\n",
    "input_usuario = input(\"Fuera del bucle: \")\n",
    "print(f\"PRIMER INTENTO: {input_usuario}\")\n",
    "letras = {\"a\", \"b\", \"C\", \"d\"} #valores unicos sin orden\n",
    "\n",
    "while input_usuario.lower() not in \"\".join(letras).lower():\n",
    "    if n_tries < 3: \n",
    "        break\n",
    "    n_tries += 1\n",
    "    print(f\"Intento n: {n_tries} con letra {input_usuario}. Sigue intentando\")\n",
    "    input_usuario = input(\"Siguiente intento: \")\n",
    "\n",
    "print(f\"Número de intentos acabados\")"
   ]
  },
  {
   "cell_type": "markdown",
   "id": "6e351acd-2c06-4298-b6fb-001e3b60a01b",
   "metadata": {},
   "source": [
    "### 💪 Hands-on\n",
    "\n",
    "```python\n",
    "import time\n",
    "\n",
    "def countdown(minutes, task=None):\n",
    "    counter = f\"Counting down: {minutes} minute{'s' if minutes > 1 else ''}... 🕰️.\"\n",
    "    if task != None: \n",
    "        counter += f\" Task: {task}\"\n",
    "    while minutes > 0:\n",
    "        print(counter)\n",
    "        time.sleep(60)\n",
    "        minutes -= 1\n",
    "    print(\"Time's up! 🎉\")\n",
    "````"
   ]
  },
  {
   "cell_type": "markdown",
   "id": "41c89894-6eb8-4753-8cb9-632407e2b13b",
   "metadata": {},
   "source": [
    "#### Números"
   ]
  },
  {
   "cell_type": "markdown",
   "id": "363ed496-c625-4c4d-8e8e-2ecb095d92b8",
   "metadata": {},
   "source": [
    "**Crea una lista que contenga el cuadrado de cada número del 1 al 10**"
   ]
  },
  {
   "cell_type": "code",
   "execution_count": null,
   "id": "46813719",
   "metadata": {},
   "outputs": [
    {
     "data": {
      "text/plain": [
       "[1, 4, 9, 16, 25, 36, 49, 64, 81, 100]"
      ]
     },
     "execution_count": 69,
     "metadata": {},
     "output_type": "execute_result"
    }
   ],
   "source": [
    "# Albert\n",
    "list_ = []\n",
    "\n",
    "for i in range(1, 11):\n",
    "    list_.append(i**2) #El +1 es porque el i va de 0 a 9 y pide enunciado de 1 a 10.\n",
    "list_\n",
    "\n",
    "#OTRA FORMA: [i**2 for i in range(1, 11)]"
   ]
  },
  {
   "cell_type": "code",
   "execution_count": 59,
   "id": "e0fbf9e4",
   "metadata": {},
   "outputs": [
    {
     "data": {
      "text/plain": [
       "[1, 4, 9, 16, 25, 36, 49, 64, 81, 100]"
      ]
     },
     "execution_count": 59,
     "metadata": {},
     "output_type": "execute_result"
    }
   ],
   "source": [
    "lista1 = []\n",
    "i = 1\n",
    "while i<=10:\n",
    "    lista1.append(i**2)\n",
    "    i+=1\n",
    "lista1"
   ]
  },
  {
   "cell_type": "code",
   "execution_count": null,
   "id": "fed464ef",
   "metadata": {},
   "outputs": [],
   "source": [
    "# comprehension list: \n",
    "    # 1. Crea una lista\n",
    "    # 2. Hace un bucle\n",
    "    # Nos permite ahorrarnos el crear una lista vacía y luego apendear\n",
    "    # más eficientes y más cómodas/de escribir\n",
    "    # quizá no tan facil de leer -> se pueden hacer más complejas\n"
   ]
  },
  {
   "cell_type": "markdown",
   "id": "f5c112c8-5c0a-493c-9e31-e45558778135",
   "metadata": {},
   "source": [
    "**Crea una lista con los cuadrados de todos los múltiplos de 8 menores que 1000**"
   ]
  },
  {
   "cell_type": "code",
   "execution_count": null,
   "id": "47603a19",
   "metadata": {},
   "outputs": [
    {
     "data": {
      "text/plain": [
       "125"
      ]
     },
     "execution_count": 71,
     "metadata": {},
     "output_type": "execute_result"
    }
   ],
   "source": [
    "# Óscar\n",
    "multiples_of_8 = []\n",
    "\n",
    "for i in range(1, 1001):\n",
    "\n",
    "    if i % 8 == 0: # si el resto es cero (si el resultado del módulo es cero) -> es divisible \n",
    "        multiples_of_8.append(i)\n",
    "len(multiples_of_8)\n",
    "\n",
    "#FORMA CORTA: [i for i in range(1, 1001) if i % 8 == 0]"
   ]
  },
  {
   "cell_type": "code",
   "execution_count": 68,
   "id": "ad565ced",
   "metadata": {},
   "outputs": [
    {
     "data": {
      "text/plain": [
       "992"
      ]
     },
     "execution_count": 68,
     "metadata": {},
     "output_type": "execute_result"
    }
   ],
   "source": [
    "i=1\n",
    "lista2 = []\n",
    "while i<=1000:\n",
    "    if i%8 == 0:\n",
    "        lista2.append(i*2)\n",
    "        if i*2>1000:\n",
    "            lista2.pop()\n",
    "            break\n",
    "    i +=1\n",
    "len(lista2)"
   ]
  },
  {
   "cell_type": "code",
   "execution_count": null,
   "id": "5f88107f",
   "metadata": {},
   "outputs": [],
   "source": [
    "cuadrados_impares = [i**2 for i in range(1,11,2)]\n",
    "\n",
    "cuadrados_impares = [(i+1)**2 for i in range(10) if (i+1)%2 != 0]"
   ]
  },
  {
   "cell_type": "markdown",
   "id": "c25dce61",
   "metadata": {},
   "source": [
    "#### Crea una nueva lista que contenga sólo palabras con 5 o más letras"
   ]
  },
  {
   "cell_type": "code",
   "execution_count": null,
   "id": "4e51db6f",
   "metadata": {},
   "outputs": [],
   "source": [
    "ciudades = [\"Córdoba\", \"Vitoria\", \"León\", \"Alicante\", \"Burgos\", \"Vigo\"]"
   ]
  },
  {
   "cell_type": "code",
   "execution_count": null,
   "id": "f6b39b59",
   "metadata": {},
   "outputs": [],
   "source": [
    "[w for w in ciudades if len(w) >= 5] # Alexis"
   ]
  },
  {
   "cell_type": "code",
   "execution_count": 68,
   "id": "e670e23f",
   "metadata": {},
   "outputs": [
    {
     "data": {
      "text/plain": [
       "{'rentable': ['Córdoba', 'Vitoria', 'Alicante', 'Burgos'],\n",
       " 'no_rentable': ['León', 'Vigo']}"
      ]
     },
     "execution_count": 68,
     "metadata": {},
     "output_type": "execute_result"
    }
   ],
   "source": [
    "size_cities = {\"rentable\": [],\n",
    "                \"no_rentable\": []}\n",
    "\n",
    "for ciudad in ciudades:\n",
    "    if len(ciudad) >= 5:\n",
    "        size_cities[\"rentable\"].append(ciudad)\n",
    "    else:\n",
    "        size_cities[\"no_rentable\"].append(ciudad)\n",
    "\n",
    "size_cities"
   ]
  },
  {
   "cell_type": "code",
   "execution_count": 82,
   "id": "dc5d9adc",
   "metadata": {},
   "outputs": [
    {
     "data": {
      "text/plain": [
       "['Córdoba', 'Vitoria', 'Alicante', 'Burgos', 'Celiaa']"
      ]
     },
     "execution_count": 82,
     "metadata": {},
     "output_type": "execute_result"
    }
   ],
   "source": [
    "i = 0\n",
    "nueva = []\n",
    "while i < len(ciudades):\n",
    "    if len(ciudades[i]) >= 5:\n",
    "        nueva.append(ciudades[i])\n",
    "    i += 1    \n",
    "nueva\n"
   ]
  },
  {
   "cell_type": "markdown",
   "id": "9af78e68",
   "metadata": {
    "lang": "en"
   },
   "source": [
    "## Pass, continue & break\n",
    "La sentencia pass no hace nada. Se puede utilizar cuando se requiere una sentencia de sintaxis pero el programa no requiere ninguna acción (de la [documentación](https://docs.python.org/3/tutorial/controlflow.html))\n",
    "\n",
    "Aunque nos sorprenda, es útil en varias situaciones. En Python no podemos tener un bloque de código indefinido (por ejemplo, el cuerpo de una función, el cuerpo de una condición o el cuerpo de un bucle). Por eso es común utilizar pass cuando estamos escribiendo la estructura de nuestro programa pero aún no hemos abordado la implementación de ciertos bloques de código."
   ]
  },
  {
   "cell_type": "code",
   "execution_count": null,
   "id": "77616664-a2e3-40da-8dcb-caebf7fb4d28",
   "metadata": {},
   "outputs": [],
   "source": [
    "n_tries = 1\n",
    "input_usuario = input(\"Fuera del bucle: \")\n",
    "print(f\"PRIMER INTENTO: {input_usuario}\")\n",
    "letras = {\"a\", \"b\", \"C\", \"d\"}\n",
    "\n",
    "while input_usuario.lower() not in \"\".join(letras).lower():\n",
    "    if n_tries < 3:\n",
    "        break\n",
    "    n_tries += 1\n",
    "    print(f\"Intento n: {n_tries} con letra {input_usuario}. Sigue intentando\")\n",
    "    input_usuario = input(\"Siguiente intento: \")\n",
    "\n",
    "print(f\"Número de intentos acabados\")"
   ]
  },
  {
   "cell_type": "markdown",
   "id": "9a7bc1ee",
   "metadata": {},
   "source": [
    "`pass`: ignora, hace cosas y pasa a la siguiente iteración"
   ]
  },
  {
   "cell_type": "code",
   "execution_count": 45,
   "id": "56d4b16a",
   "metadata": {},
   "outputs": [],
   "source": [
    "for i in range(10):\n",
    "    pass\n",
    "\n",
    "lst_ = []"
   ]
  },
  {
   "cell_type": "code",
   "execution_count": 47,
   "id": "547d18ab",
   "metadata": {},
   "outputs": [],
   "source": [
    "num = 15\n",
    "\n",
    "if num == 15:\n",
    "    pass\n",
    "elif num == 0:\n",
    "    print(f\"{num}\")"
   ]
  },
  {
   "cell_type": "markdown",
   "id": "6630b66a",
   "metadata": {},
   "source": [
    "`continue`: se detiene y pasa a la siguiente iteración"
   ]
  },
  {
   "cell_type": "code",
   "execution_count": 83,
   "id": "efcc1182",
   "metadata": {},
   "outputs": [
    {
     "name": "stdout",
     "output_type": "stream",
     "text": [
      "Madrid\n",
      "Segunda parte: El counter es 1 en iteración 0\n",
      "BARCELONA\n",
      "BILBAO\n",
      "Jaén\n",
      "Segunda parte: El counter es 2 en iteración 3\n",
      "Lleida\n",
      "Segunda parte: El counter es 3 en iteración 4\n"
     ]
    }
   ],
   "source": [
    "lst_ = [\"Madrid\", \"Barcelona\", \"Bilbao\", \"Jaén\", \"Lleida\"]\n",
    "\n",
    "import time\n",
    "\n",
    "counter = 0\n",
    "for pos, i in enumerate(lst_):\n",
    "    time.sleep(2)\n",
    "\n",
    "    # 1. Primera parte\n",
    "    if i.startswith(\"B\"):\n",
    "        print(i.upper())\n",
    "        continue\n",
    "    else:\n",
    "        print(i)\n",
    "\n",
    "    # 2. Segunda parte\n",
    "    counter += 1\n",
    "    print(f\"Segunda parte: El contador es {counter} en iteración {pos}\")\n",
    "\n",
    "  # pass: para y sigue hacia abajo (counter & print de counter se ejecuta)\n",
    "  # continue: para y sigue hacia la derecha (siguiente iteración) (counter & print de counter NO se ejecuta)\n",
    "  # break: para las iteraciones"
   ]
  },
  {
   "cell_type": "markdown",
   "id": "e873ede0",
   "metadata": {
    "lang": "en"
   },
   "source": [
    "## Recorremos las listas en iteración sobre su índice: `enumerate`\n",
    "- Funciones integradas --> https://docs.python.org/3/library/functions.html\n",
    "- Documentación de enumeración --> https://book.pythontips.com/en/latest/enumerate.html"
   ]
  },
  {
   "cell_type": "code",
   "execution_count": 91,
   "id": "5210470b",
   "metadata": {},
   "outputs": [
    {
     "data": {
      "text/plain": [
       "['PLAY', 'BAR', 'DATE', 'THAT', 'STORY']"
      ]
     },
     "execution_count": 91,
     "metadata": {},
     "output_type": "execute_result"
    }
   ],
   "source": [
    "# enumerate\n",
    "# range\n",
    "words=['play', 'bar', 'date', 'that', 'story']\n",
    "# 1. Itrear lista de palabras por elementos\n",
    "#for i in ...\n",
    "# 2. Iterar con un rango\n",
    "for i in range(len(words)):\n",
    "    #rint(words[i])\n",
    "    #words[i] = words[i].upper() \n",
    "    pass\n",
    "\n",
    "# 3. Iteramos por rango y elemento: enumerate\n",
    "for pos, elem in enumerate(words):\n",
    "    words[pos] = elem.upper()\n",
    "    #pass\n",
    "\n",
    "# 4. Iterar por el rango y el elemento: \n",
    "for pos, elem in zip(range(len(words)), words):\n",
    "    #print(pos, elem)\n",
    "    pass\n",
    "words"
   ]
  },
  {
   "cell_type": "markdown",
   "id": "73b7e30f",
   "metadata": {
    "lang": "en"
   },
   "source": [
    "## Recorrer dos listas al mismo tiempo: `zip`"
   ]
  },
  {
   "cell_type": "markdown",
   "id": "af465221",
   "metadata": {
    "lang": "en"
   },
   "source": [
    "Os dejo la documentación en zip, recordad que no dará error si las listas son de distintos tamaños pero la última iteración será la de la lista más corta\n",
    "[DOC](https://docs.python.org/3/library/functions.html)"
   ]
  },
  {
   "cell_type": "code",
   "execution_count": null,
   "id": "63c70523",
   "metadata": {},
   "outputs": [
    {
     "name": "stdout",
     "output_type": "stream",
     "text": [
      "Laura vive en León\n",
      "Emma vive en Tarragona\n",
      "Claudia vive en Sevilla\n"
     ]
    }
   ],
   "source": [
    "# zip zip(nombre, ciudad) → combina ambos en pares:\n",
    "\n",
    "nombres = [\"Laura\", \"Emma\", \"Claudia\"]\n",
    "ciudades = [\"León\", \"Tarragona\", \"Sevilla\"]\n",
    "\n",
    "for persona, ciudad in zip(nombres, ciudades):\n",
    "    print(f\"{persona} vive en {ciudad}\")\n",
    "\n",
    "# zip: iterar por iterables de forma correlativa"
   ]
  },
  {
   "cell_type": "code",
   "execution_count": 57,
   "id": "e366d4a6",
   "metadata": {},
   "outputs": [
    {
     "data": {
      "text/plain": [
       "27034.9"
      ]
     },
     "execution_count": 57,
     "metadata": {},
     "output_type": "execute_result"
    }
   ],
   "source": [
    "# zip (zipper)\n",
    "# Quiero sumar el resultado de aplicar un peso a cada reusltado individual -> obtener una puntuación calcualda\n",
    "\n",
    "resultados = [783, 343, 232]\n",
    "pesos = [1.3, 63, 19]\n",
    "\n",
    "resultado_final = 0\n",
    "\n",
    "for r, p in zip(resultados, pesos):\n",
    "    mult = r * p\n",
    "    resultado_final += mult\n",
    "\n",
    "resultado_final"
   ]
  },
  {
   "cell_type": "code",
   "execution_count": 94,
   "id": "5712925e",
   "metadata": {},
   "outputs": [
    {
     "name": "stdout",
     "output_type": "stream",
     "text": [
      "Laura León\n",
      "Laura vive en León\n",
      "Emma Tarragona\n",
      "Emma vive en Tarragona\n"
     ]
    }
   ],
   "source": [
    "# zip (zipper)\n",
    "import time\n",
    "time.sleep(3) #EL PROGRAMA SE DETIENE A LOS 3 SEGUNDOS\n",
    "\n",
    "#SI TENEMOS CADENAS DE DIFERENTE LONGUITUD HACE PAREJAS HASTA LA LONGUITUD MINIMA, LO DEMÁS NO LO COGE\n",
    "nombres = [\"Laura\", \"Emma\"]\n",
    "ciudades = [\"León\", \"Tarragona\", \"Sevilla\"]\n",
    "\n",
    "for persona, ciudad in zip(nombres, ciudades):\n",
    "    print(f\"{persona} vive en {ciudad}\")"
   ]
  },
  {
   "cell_type": "markdown",
   "id": "a7f5de97",
   "metadata": {},
   "source": [
    "`zip_longest`: ¿qué pasa si quiero conservar la lista más larga?"
   ]
  },
  {
   "cell_type": "code",
   "execution_count": 60,
   "id": "08219f2f",
   "metadata": {},
   "outputs": [
    {
     "name": "stdout",
     "output_type": "stream",
     "text": [
      "Laura vive en León\n",
      "Emma vive en Tarragona\n",
      "None vive en Sevilla\n"
     ]
    }
   ],
   "source": [
    "from itertools import zip_longest\n",
    "\n",
    "nombres = [\"Laura\", \"Emma\"]\n",
    "ciudades = [\"León\", \"Tarragona\", \"Sevilla\"]\n",
    "\n",
    "for persona, ciudad in zip_longest(nombres, ciudades):\n",
    "    print(f\"{persona} vive en {ciudad}\")\n",
    "\n"
   ]
  },
  {
   "cell_type": "markdown",
   "id": "8b22b808",
   "metadata": {},
   "source": [
    "## FUNCIONES CON TIEMPO "
   ]
  },
  {
   "cell_type": "markdown",
   "id": "e9e10e43-0a9b-4b07-afa0-f5d750faaffa",
   "metadata": {},
   "source": [
    "### 💪 Hands-on\n",
    "\n",
    "```python\n",
    "import time\n",
    "\n",
    "def countdown(minutes, task=None):\n",
    "    counter = f\"Counting down: {minutes} minute{'s' if minutes > 1 else ''}... 🕰️.\"\n",
    "    if task != None: \n",
    "        counter += f\" Task: {task}\"\n",
    "    while minutes > 0:\n",
    "        print(counter)\n",
    "        time.sleep(60)\n",
    "        minutes -= 1\n",
    "    print(\"Time's up! 🎉\")\n",
    "````"
   ]
  },
  {
   "cell_type": "code",
   "execution_count": 98,
   "id": "05296a18",
   "metadata": {},
   "outputs": [
    {
     "data": {
      "text/plain": [
       "(datetime.datetime(2025, 10, 31, 11, 56, 28, 153654), 28)"
      ]
     },
     "execution_count": 98,
     "metadata": {},
     "output_type": "execute_result"
    }
   ],
   "source": [
    "import datetime\n",
    "\n",
    "Fecha_Hora_Actual = datetime.datetime.now()\n",
    "Segundos_actuales = datetime.datetime.now().second\n",
    "Fecha_Hora_Actual, Segundos_actuales"
   ]
  },
  {
   "cell_type": "code",
   "execution_count": 100,
   "id": "e0ad0fbf",
   "metadata": {},
   "outputs": [
    {
     "name": "stdout",
     "output_type": "stream",
     "text": [
      "El dinero restante es 17\n",
      "El dinero restante es 14\n",
      "El dinero restante es 11\n",
      "El dinero restante es 8\n"
     ]
    }
   ],
   "source": [
    "import datetime\n",
    "ahora = datetime.datetime.now()\n",
    "\n",
    "dinero = 20\n",
    "while dinero >= 1:\n",
    "    time.sleep(1)\n",
    "    dinero -= 3\n",
    "    print(f\"El dinero restante es {dinero}\")\n",
    "    despues = datetime.datetime.now()\n",
    "    if (despues.second - ahora.second) > 3:\n",
    "        break"
   ]
  },
  {
   "cell_type": "markdown",
   "id": "f9bc5473-acbe-49a1-9fbe-5f26f047517e",
   "metadata": {},
   "source": [
    "#### Gente"
   ]
  },
  {
   "cell_type": "code",
   "execution_count": 113,
   "id": "9b4eadb1-459f-43f7-a3af-04a3c939fb6c",
   "metadata": {},
   "outputs": [],
   "source": [
    "people = [\n",
    "    {\n",
    "        \"name\": \"Juan\",\n",
    "        \"age\": 34,\n",
    "        \"n_kids\": 2\n",
    "    },\n",
    "    {\n",
    "        \"name\": \"Pepe\",\n",
    "        \"age\": 27,\n",
    "        \"n_kids\": 0\n",
    "    },\n",
    "    {\n",
    "        \"name\": \"Sonia\",\n",
    "        \"age\": 41,\n",
    "        \"n_kids\": 1\n",
    "    },\n",
    "    {\n",
    "        \"name\": \"Lucía\",\n",
    "        \"age\": 22,\n",
    "        \"n_kids\": 2\n",
    "    },\n",
    "    {\n",
    "        \"name\": \"Leo\",\n",
    "        \"age\": 55,\n",
    "        \"n_kids\": 5\n",
    "    }\n",
    "]"
   ]
  },
  {
   "cell_type": "markdown",
   "id": "cc656d93-c2a1-4bf9-aeff-c43072878f0b",
   "metadata": {},
   "source": [
    "**¿Cuántas personas hay?**"
   ]
  },
  {
   "cell_type": "code",
   "execution_count": 103,
   "id": "1a64f34c-d479-4864-9802-5b061dd87a68",
   "metadata": {},
   "outputs": [
    {
     "data": {
      "text/plain": [
       "5"
      ]
     },
     "execution_count": 103,
     "metadata": {},
     "output_type": "execute_result"
    }
   ],
   "source": [
    "len(people)"
   ]
  },
  {
   "cell_type": "markdown",
   "id": "4b548673-46b8-4bff-8f3f-9778175aa063",
   "metadata": {},
   "source": [
    "**¿Cuántas personas tienen hijos?**"
   ]
  },
  {
   "cell_type": "code",
   "execution_count": 105,
   "id": "d453bbf4-d9aa-470c-9958-2331c37d1161",
   "metadata": {},
   "outputs": [
    {
     "data": {
      "text/plain": [
       "4"
      ]
     },
     "execution_count": 105,
     "metadata": {},
     "output_type": "execute_result"
    }
   ],
   "source": [
    "i = 0\n",
    "count=0\n",
    "for i in range(len(people)):\n",
    "    if people[i][\"n_kids\"] > 0:\n",
    "        count +=1\n",
    "count"
   ]
  },
  {
   "cell_type": "markdown",
   "id": "70c8374e-5f69-4ab4-884d-ae66e25a2334",
   "metadata": {},
   "source": [
    "**¿Cuántos hijos tienen en total?**"
   ]
  },
  {
   "cell_type": "code",
   "execution_count": 106,
   "id": "4fc95f31-1160-4da3-b2e4-986774790f62",
   "metadata": {},
   "outputs": [
    {
     "data": {
      "text/plain": [
       "10"
      ]
     },
     "execution_count": 106,
     "metadata": {},
     "output_type": "execute_result"
    }
   ],
   "source": [
    "i = 0\n",
    "count=0\n",
    "for i in range(len(people)):\n",
    "    if people[i][\"n_kids\"] > 0:\n",
    "        count +=people[i][\"n_kids\"]\n",
    "count"
   ]
  },
  {
   "cell_type": "markdown",
   "id": "cfd0618f-8717-4afc-bba8-bd333a42fba2",
   "metadata": {},
   "source": [
    "**Dentro de un año, los nombres que terminan con \"a\" tendrán un hijo más. Crea una lista de diccionarios con información de las personas dentro de un año**"
   ]
  },
  {
   "cell_type": "code",
   "execution_count": 112,
   "id": "0eecc899",
   "metadata": {},
   "outputs": [
    {
     "data": {
      "text/plain": [
       "[{'name': 'Juan', 'age': 34, 'n_kids': 2},\n",
       " {'name': 'Pepe', 'age': 27, 'n_kids': 0},\n",
       " {'name': 'Sonia', 'age': 41, 'n_kids': 1},\n",
       " {'name': 'aLucía', 'age': 22, 'n_kids': 3},\n",
       " {'name': 'Leo', 'age': 55, 'n_kids': 5}]"
      ]
     },
     "execution_count": 112,
     "metadata": {},
     "output_type": "execute_result"
    }
   ],
   "source": [
    "i = 0\n",
    "count=0\n",
    "for i in range(len(people)):\n",
    "    if (people[i][\"name\"][0]).lower() == \"a\" :\n",
    "        people[i][\"n_kids\"] += 1\n",
    "people\n"
   ]
  }
 ],
 "metadata": {
  "author": "https://github.com/breogann",
  "created": "2021",
  "kernelspec": {
   "display_name": "Python 3",
   "language": "python",
   "name": "python3"
  },
  "language_info": {
   "codemirror_mode": {
    "name": "ipython",
    "version": 3
   },
   "file_extension": ".py",
   "mimetype": "text/x-python",
   "name": "python",
   "nbconvert_exporter": "python",
   "pygments_lexer": "ipython3",
   "version": "3.13.7"
  },
  "nbTranslate": {
   "displayLangs": [
    "en",
    "es"
   ],
   "hotkey": "alt-a",
   "langInMainMenu": true,
   "sourceLang": "es",
   "targetLang": "en",
   "useGoogleTranslate": true
  },
  "toc": {
   "base_numbering": 1,
   "nav_menu": {},
   "number_sections": true,
   "sideBar": true,
   "skip_h1_title": true,
   "title_cell": "Table of Contents",
   "title_sidebar": "Contents",
   "toc_cell": true,
   "toc_position": {
    "height": "calc(100% - 180px)",
    "left": "10px",
    "top": "150px",
    "width": "253.097px"
   },
   "toc_section_display": true,
   "toc_window_display": false
  }
 },
 "nbformat": 4,
 "nbformat_minor": 5
}
